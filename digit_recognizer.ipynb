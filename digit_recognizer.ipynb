{
 "cells": [
  {
   "source": [
    "<a href=\"https://www.kaggle.com/code/mh0386/digit-recognizer?scriptVersionId=146137528\" target=\"_blank\"><img align=\"left\" alt=\"Kaggle\" title=\"Open in Kaggle\" src=\"https://kaggle.com/static/images/open-in-kaggle.svg\"></a>"
   ],
   "metadata": {},
   "cell_type": "markdown",
   "id": "b045b558e9b1792c"
  },
  {
   "cell_type": "code",
   "execution_count": 1,
   "id": "55c39362",
   "metadata": {
    "execution": {
     "iopub.execute_input": "2023-10-11T13:47:00.905366Z",
     "iopub.status.busy": "2023-10-11T13:47:00.905012Z",
     "iopub.status.idle": "2023-10-11T13:47:11.156251Z",
     "shell.execute_reply": "2023-10-11T13:47:11.15474Z"
    },
    "papermill": {
     "duration": 10.263948,
     "end_time": "2023-10-11T13:47:11.158955",
     "exception": false,
     "start_time": "2023-10-11T13:47:00.895007",
     "status": "completed"
    },
    "tags": [],
    "ExecuteTime": {
     "end_time": "2023-10-12T17:37:37.542543100Z",
     "start_time": "2023-10-12T17:37:25.664774Z"
    }
   },
   "outputs": [],
   "source": [
    "import numpy as np\n",
    "import pandas as pd\n",
    "import matplotlib.pyplot as plt\n",
    "import tensorflow as tf"
   ]
  },
  {
   "cell_type": "code",
   "execution_count": 2,
   "id": "f230a129",
   "metadata": {
    "collapsed": false,
    "execution": {
     "iopub.execute_input": "2023-10-11T13:47:11.173502Z",
     "iopub.status.busy": "2023-10-11T13:47:11.172751Z",
     "iopub.status.idle": "2023-10-11T13:47:16.505592Z",
     "shell.execute_reply": "2023-10-11T13:47:16.504221Z"
    },
    "papermill": {
     "duration": 5.342619,
     "end_time": "2023-10-11T13:47:16.508207",
     "exception": false,
     "start_time": "2023-10-11T13:47:11.165588",
     "status": "completed"
    },
    "tags": [],
    "ExecuteTime": {
     "end_time": "2023-10-12T17:37:47.044244800Z",
     "start_time": "2023-10-12T17:37:37.505541400Z"
    }
   },
   "outputs": [],
   "source": [
    "try:\n",
    "    train = pd.read_csv('Data/train.csv')\n",
    "    test = pd.read_csv('Data/test.csv')\n",
    "except:\n",
    "    train = pd.read_csv('/kaggle/input/digit-recognizer/train.csv')\n",
    "    test = pd.read_csv('/kaggle/input/digit-recognizer/test.csv')"
   ]
  },
  {
   "cell_type": "code",
   "execution_count": 3,
   "id": "f4590ef4",
   "metadata": {
    "collapsed": false,
    "execution": {
     "iopub.execute_input": "2023-10-11T13:47:16.523059Z",
     "iopub.status.busy": "2023-10-11T13:47:16.522672Z",
     "iopub.status.idle": "2023-10-11T13:47:16.556231Z",
     "shell.execute_reply": "2023-10-11T13:47:16.555198Z"
    },
    "papermill": {
     "duration": 0.044455,
     "end_time": "2023-10-11T13:47:16.558878",
     "exception": false,
     "start_time": "2023-10-11T13:47:16.514423",
     "status": "completed"
    },
    "tags": [],
    "ExecuteTime": {
     "end_time": "2023-10-12T17:37:47.180426600Z",
     "start_time": "2023-10-12T17:37:47.047245200Z"
    }
   },
   "outputs": [
    {
     "data": {
      "text/plain": "       label  pixel0  pixel1  pixel2  pixel3  pixel4  pixel5  pixel6  pixel7  \\\n0          1       0       0       0       0       0       0       0       0   \n1          0       0       0       0       0       0       0       0       0   \n2          1       0       0       0       0       0       0       0       0   \n3          4       0       0       0       0       0       0       0       0   \n4          0       0       0       0       0       0       0       0       0   \n...      ...     ...     ...     ...     ...     ...     ...     ...     ...   \n41995      0       0       0       0       0       0       0       0       0   \n41996      1       0       0       0       0       0       0       0       0   \n41997      7       0       0       0       0       0       0       0       0   \n41998      6       0       0       0       0       0       0       0       0   \n41999      9       0       0       0       0       0       0       0       0   \n\n       pixel8  ...  pixel774  pixel775  pixel776  pixel777  pixel778  \\\n0           0  ...         0         0         0         0         0   \n1           0  ...         0         0         0         0         0   \n2           0  ...         0         0         0         0         0   \n3           0  ...         0         0         0         0         0   \n4           0  ...         0         0         0         0         0   \n...       ...  ...       ...       ...       ...       ...       ...   \n41995       0  ...         0         0         0         0         0   \n41996       0  ...         0         0         0         0         0   \n41997       0  ...         0         0         0         0         0   \n41998       0  ...         0         0         0         0         0   \n41999       0  ...         0         0         0         0         0   \n\n       pixel779  pixel780  pixel781  pixel782  pixel783  \n0             0         0         0         0         0  \n1             0         0         0         0         0  \n2             0         0         0         0         0  \n3             0         0         0         0         0  \n4             0         0         0         0         0  \n...         ...       ...       ...       ...       ...  \n41995         0         0         0         0         0  \n41996         0         0         0         0         0  \n41997         0         0         0         0         0  \n41998         0         0         0         0         0  \n41999         0         0         0         0         0  \n\n[42000 rows x 785 columns]",
      "text/html": "<div>\n<style scoped>\n    .dataframe tbody tr th:only-of-type {\n        vertical-align: middle;\n    }\n\n    .dataframe tbody tr th {\n        vertical-align: top;\n    }\n\n    .dataframe thead th {\n        text-align: right;\n    }\n</style>\n<table border=\"1\" class=\"dataframe\">\n  <thead>\n    <tr style=\"text-align: right;\">\n      <th></th>\n      <th>label</th>\n      <th>pixel0</th>\n      <th>pixel1</th>\n      <th>pixel2</th>\n      <th>pixel3</th>\n      <th>pixel4</th>\n      <th>pixel5</th>\n      <th>pixel6</th>\n      <th>pixel7</th>\n      <th>pixel8</th>\n      <th>...</th>\n      <th>pixel774</th>\n      <th>pixel775</th>\n      <th>pixel776</th>\n      <th>pixel777</th>\n      <th>pixel778</th>\n      <th>pixel779</th>\n      <th>pixel780</th>\n      <th>pixel781</th>\n      <th>pixel782</th>\n      <th>pixel783</th>\n    </tr>\n  </thead>\n  <tbody>\n    <tr>\n      <th>0</th>\n      <td>1</td>\n      <td>0</td>\n      <td>0</td>\n      <td>0</td>\n      <td>0</td>\n      <td>0</td>\n      <td>0</td>\n      <td>0</td>\n      <td>0</td>\n      <td>0</td>\n      <td>...</td>\n      <td>0</td>\n      <td>0</td>\n      <td>0</td>\n      <td>0</td>\n      <td>0</td>\n      <td>0</td>\n      <td>0</td>\n      <td>0</td>\n      <td>0</td>\n      <td>0</td>\n    </tr>\n    <tr>\n      <th>1</th>\n      <td>0</td>\n      <td>0</td>\n      <td>0</td>\n      <td>0</td>\n      <td>0</td>\n      <td>0</td>\n      <td>0</td>\n      <td>0</td>\n      <td>0</td>\n      <td>0</td>\n      <td>...</td>\n      <td>0</td>\n      <td>0</td>\n      <td>0</td>\n      <td>0</td>\n      <td>0</td>\n      <td>0</td>\n      <td>0</td>\n      <td>0</td>\n      <td>0</td>\n      <td>0</td>\n    </tr>\n    <tr>\n      <th>2</th>\n      <td>1</td>\n      <td>0</td>\n      <td>0</td>\n      <td>0</td>\n      <td>0</td>\n      <td>0</td>\n      <td>0</td>\n      <td>0</td>\n      <td>0</td>\n      <td>0</td>\n      <td>...</td>\n      <td>0</td>\n      <td>0</td>\n      <td>0</td>\n      <td>0</td>\n      <td>0</td>\n      <td>0</td>\n      <td>0</td>\n      <td>0</td>\n      <td>0</td>\n      <td>0</td>\n    </tr>\n    <tr>\n      <th>3</th>\n      <td>4</td>\n      <td>0</td>\n      <td>0</td>\n      <td>0</td>\n      <td>0</td>\n      <td>0</td>\n      <td>0</td>\n      <td>0</td>\n      <td>0</td>\n      <td>0</td>\n      <td>...</td>\n      <td>0</td>\n      <td>0</td>\n      <td>0</td>\n      <td>0</td>\n      <td>0</td>\n      <td>0</td>\n      <td>0</td>\n      <td>0</td>\n      <td>0</td>\n      <td>0</td>\n    </tr>\n    <tr>\n      <th>4</th>\n      <td>0</td>\n      <td>0</td>\n      <td>0</td>\n      <td>0</td>\n      <td>0</td>\n      <td>0</td>\n      <td>0</td>\n      <td>0</td>\n      <td>0</td>\n      <td>0</td>\n      <td>...</td>\n      <td>0</td>\n      <td>0</td>\n      <td>0</td>\n      <td>0</td>\n      <td>0</td>\n      <td>0</td>\n      <td>0</td>\n      <td>0</td>\n      <td>0</td>\n      <td>0</td>\n    </tr>\n    <tr>\n      <th>...</th>\n      <td>...</td>\n      <td>...</td>\n      <td>...</td>\n      <td>...</td>\n      <td>...</td>\n      <td>...</td>\n      <td>...</td>\n      <td>...</td>\n      <td>...</td>\n      <td>...</td>\n      <td>...</td>\n      <td>...</td>\n      <td>...</td>\n      <td>...</td>\n      <td>...</td>\n      <td>...</td>\n      <td>...</td>\n      <td>...</td>\n      <td>...</td>\n      <td>...</td>\n      <td>...</td>\n    </tr>\n    <tr>\n      <th>41995</th>\n      <td>0</td>\n      <td>0</td>\n      <td>0</td>\n      <td>0</td>\n      <td>0</td>\n      <td>0</td>\n      <td>0</td>\n      <td>0</td>\n      <td>0</td>\n      <td>0</td>\n      <td>...</td>\n      <td>0</td>\n      <td>0</td>\n      <td>0</td>\n      <td>0</td>\n      <td>0</td>\n      <td>0</td>\n      <td>0</td>\n      <td>0</td>\n      <td>0</td>\n      <td>0</td>\n    </tr>\n    <tr>\n      <th>41996</th>\n      <td>1</td>\n      <td>0</td>\n      <td>0</td>\n      <td>0</td>\n      <td>0</td>\n      <td>0</td>\n      <td>0</td>\n      <td>0</td>\n      <td>0</td>\n      <td>0</td>\n      <td>...</td>\n      <td>0</td>\n      <td>0</td>\n      <td>0</td>\n      <td>0</td>\n      <td>0</td>\n      <td>0</td>\n      <td>0</td>\n      <td>0</td>\n      <td>0</td>\n      <td>0</td>\n    </tr>\n    <tr>\n      <th>41997</th>\n      <td>7</td>\n      <td>0</td>\n      <td>0</td>\n      <td>0</td>\n      <td>0</td>\n      <td>0</td>\n      <td>0</td>\n      <td>0</td>\n      <td>0</td>\n      <td>0</td>\n      <td>...</td>\n      <td>0</td>\n      <td>0</td>\n      <td>0</td>\n      <td>0</td>\n      <td>0</td>\n      <td>0</td>\n      <td>0</td>\n      <td>0</td>\n      <td>0</td>\n      <td>0</td>\n    </tr>\n    <tr>\n      <th>41998</th>\n      <td>6</td>\n      <td>0</td>\n      <td>0</td>\n      <td>0</td>\n      <td>0</td>\n      <td>0</td>\n      <td>0</td>\n      <td>0</td>\n      <td>0</td>\n      <td>0</td>\n      <td>...</td>\n      <td>0</td>\n      <td>0</td>\n      <td>0</td>\n      <td>0</td>\n      <td>0</td>\n      <td>0</td>\n      <td>0</td>\n      <td>0</td>\n      <td>0</td>\n      <td>0</td>\n    </tr>\n    <tr>\n      <th>41999</th>\n      <td>9</td>\n      <td>0</td>\n      <td>0</td>\n      <td>0</td>\n      <td>0</td>\n      <td>0</td>\n      <td>0</td>\n      <td>0</td>\n      <td>0</td>\n      <td>0</td>\n      <td>...</td>\n      <td>0</td>\n      <td>0</td>\n      <td>0</td>\n      <td>0</td>\n      <td>0</td>\n      <td>0</td>\n      <td>0</td>\n      <td>0</td>\n      <td>0</td>\n      <td>0</td>\n    </tr>\n  </tbody>\n</table>\n<p>42000 rows × 785 columns</p>\n</div>"
     },
     "execution_count": 3,
     "metadata": {},
     "output_type": "execute_result"
    }
   ],
   "source": [
    "train"
   ]
  },
  {
   "cell_type": "code",
   "execution_count": 4,
   "id": "8e9656a3",
   "metadata": {
    "execution": {
     "iopub.execute_input": "2023-10-11T13:47:16.573036Z",
     "iopub.status.busy": "2023-10-11T13:47:16.572662Z",
     "iopub.status.idle": "2023-10-11T13:47:16.592657Z",
     "shell.execute_reply": "2023-10-11T13:47:16.591587Z"
    },
    "papermill": {
     "duration": 0.029788,
     "end_time": "2023-10-11T13:47:16.595055",
     "exception": false,
     "start_time": "2023-10-11T13:47:16.565267",
     "status": "completed"
    },
    "tags": [],
    "ExecuteTime": {
     "end_time": "2023-10-12T17:37:47.344829900Z",
     "start_time": "2023-10-12T17:37:47.113586Z"
    }
   },
   "outputs": [
    {
     "data": {
      "text/plain": "       pixel0  pixel1  pixel2  pixel3  pixel4  pixel5  pixel6  pixel7  pixel8  \\\n0           0       0       0       0       0       0       0       0       0   \n1           0       0       0       0       0       0       0       0       0   \n2           0       0       0       0       0       0       0       0       0   \n3           0       0       0       0       0       0       0       0       0   \n4           0       0       0       0       0       0       0       0       0   \n...       ...     ...     ...     ...     ...     ...     ...     ...     ...   \n27995       0       0       0       0       0       0       0       0       0   \n27996       0       0       0       0       0       0       0       0       0   \n27997       0       0       0       0       0       0       0       0       0   \n27998       0       0       0       0       0       0       0       0       0   \n27999       0       0       0       0       0       0       0       0       0   \n\n       pixel9  ...  pixel774  pixel775  pixel776  pixel777  pixel778  \\\n0           0  ...         0         0         0         0         0   \n1           0  ...         0         0         0         0         0   \n2           0  ...         0         0         0         0         0   \n3           0  ...         0         0         0         0         0   \n4           0  ...         0         0         0         0         0   \n...       ...  ...       ...       ...       ...       ...       ...   \n27995       0  ...         0         0         0         0         0   \n27996       0  ...         0         0         0         0         0   \n27997       0  ...         0         0         0         0         0   \n27998       0  ...         0         0         0         0         0   \n27999       0  ...         0         0         0         0         0   \n\n       pixel779  pixel780  pixel781  pixel782  pixel783  \n0             0         0         0         0         0  \n1             0         0         0         0         0  \n2             0         0         0         0         0  \n3             0         0         0         0         0  \n4             0         0         0         0         0  \n...         ...       ...       ...       ...       ...  \n27995         0         0         0         0         0  \n27996         0         0         0         0         0  \n27997         0         0         0         0         0  \n27998         0         0         0         0         0  \n27999         0         0         0         0         0  \n\n[28000 rows x 784 columns]",
      "text/html": "<div>\n<style scoped>\n    .dataframe tbody tr th:only-of-type {\n        vertical-align: middle;\n    }\n\n    .dataframe tbody tr th {\n        vertical-align: top;\n    }\n\n    .dataframe thead th {\n        text-align: right;\n    }\n</style>\n<table border=\"1\" class=\"dataframe\">\n  <thead>\n    <tr style=\"text-align: right;\">\n      <th></th>\n      <th>pixel0</th>\n      <th>pixel1</th>\n      <th>pixel2</th>\n      <th>pixel3</th>\n      <th>pixel4</th>\n      <th>pixel5</th>\n      <th>pixel6</th>\n      <th>pixel7</th>\n      <th>pixel8</th>\n      <th>pixel9</th>\n      <th>...</th>\n      <th>pixel774</th>\n      <th>pixel775</th>\n      <th>pixel776</th>\n      <th>pixel777</th>\n      <th>pixel778</th>\n      <th>pixel779</th>\n      <th>pixel780</th>\n      <th>pixel781</th>\n      <th>pixel782</th>\n      <th>pixel783</th>\n    </tr>\n  </thead>\n  <tbody>\n    <tr>\n      <th>0</th>\n      <td>0</td>\n      <td>0</td>\n      <td>0</td>\n      <td>0</td>\n      <td>0</td>\n      <td>0</td>\n      <td>0</td>\n      <td>0</td>\n      <td>0</td>\n      <td>0</td>\n      <td>...</td>\n      <td>0</td>\n      <td>0</td>\n      <td>0</td>\n      <td>0</td>\n      <td>0</td>\n      <td>0</td>\n      <td>0</td>\n      <td>0</td>\n      <td>0</td>\n      <td>0</td>\n    </tr>\n    <tr>\n      <th>1</th>\n      <td>0</td>\n      <td>0</td>\n      <td>0</td>\n      <td>0</td>\n      <td>0</td>\n      <td>0</td>\n      <td>0</td>\n      <td>0</td>\n      <td>0</td>\n      <td>0</td>\n      <td>...</td>\n      <td>0</td>\n      <td>0</td>\n      <td>0</td>\n      <td>0</td>\n      <td>0</td>\n      <td>0</td>\n      <td>0</td>\n      <td>0</td>\n      <td>0</td>\n      <td>0</td>\n    </tr>\n    <tr>\n      <th>2</th>\n      <td>0</td>\n      <td>0</td>\n      <td>0</td>\n      <td>0</td>\n      <td>0</td>\n      <td>0</td>\n      <td>0</td>\n      <td>0</td>\n      <td>0</td>\n      <td>0</td>\n      <td>...</td>\n      <td>0</td>\n      <td>0</td>\n      <td>0</td>\n      <td>0</td>\n      <td>0</td>\n      <td>0</td>\n      <td>0</td>\n      <td>0</td>\n      <td>0</td>\n      <td>0</td>\n    </tr>\n    <tr>\n      <th>3</th>\n      <td>0</td>\n      <td>0</td>\n      <td>0</td>\n      <td>0</td>\n      <td>0</td>\n      <td>0</td>\n      <td>0</td>\n      <td>0</td>\n      <td>0</td>\n      <td>0</td>\n      <td>...</td>\n      <td>0</td>\n      <td>0</td>\n      <td>0</td>\n      <td>0</td>\n      <td>0</td>\n      <td>0</td>\n      <td>0</td>\n      <td>0</td>\n      <td>0</td>\n      <td>0</td>\n    </tr>\n    <tr>\n      <th>4</th>\n      <td>0</td>\n      <td>0</td>\n      <td>0</td>\n      <td>0</td>\n      <td>0</td>\n      <td>0</td>\n      <td>0</td>\n      <td>0</td>\n      <td>0</td>\n      <td>0</td>\n      <td>...</td>\n      <td>0</td>\n      <td>0</td>\n      <td>0</td>\n      <td>0</td>\n      <td>0</td>\n      <td>0</td>\n      <td>0</td>\n      <td>0</td>\n      <td>0</td>\n      <td>0</td>\n    </tr>\n    <tr>\n      <th>...</th>\n      <td>...</td>\n      <td>...</td>\n      <td>...</td>\n      <td>...</td>\n      <td>...</td>\n      <td>...</td>\n      <td>...</td>\n      <td>...</td>\n      <td>...</td>\n      <td>...</td>\n      <td>...</td>\n      <td>...</td>\n      <td>...</td>\n      <td>...</td>\n      <td>...</td>\n      <td>...</td>\n      <td>...</td>\n      <td>...</td>\n      <td>...</td>\n      <td>...</td>\n      <td>...</td>\n    </tr>\n    <tr>\n      <th>27995</th>\n      <td>0</td>\n      <td>0</td>\n      <td>0</td>\n      <td>0</td>\n      <td>0</td>\n      <td>0</td>\n      <td>0</td>\n      <td>0</td>\n      <td>0</td>\n      <td>0</td>\n      <td>...</td>\n      <td>0</td>\n      <td>0</td>\n      <td>0</td>\n      <td>0</td>\n      <td>0</td>\n      <td>0</td>\n      <td>0</td>\n      <td>0</td>\n      <td>0</td>\n      <td>0</td>\n    </tr>\n    <tr>\n      <th>27996</th>\n      <td>0</td>\n      <td>0</td>\n      <td>0</td>\n      <td>0</td>\n      <td>0</td>\n      <td>0</td>\n      <td>0</td>\n      <td>0</td>\n      <td>0</td>\n      <td>0</td>\n      <td>...</td>\n      <td>0</td>\n      <td>0</td>\n      <td>0</td>\n      <td>0</td>\n      <td>0</td>\n      <td>0</td>\n      <td>0</td>\n      <td>0</td>\n      <td>0</td>\n      <td>0</td>\n    </tr>\n    <tr>\n      <th>27997</th>\n      <td>0</td>\n      <td>0</td>\n      <td>0</td>\n      <td>0</td>\n      <td>0</td>\n      <td>0</td>\n      <td>0</td>\n      <td>0</td>\n      <td>0</td>\n      <td>0</td>\n      <td>...</td>\n      <td>0</td>\n      <td>0</td>\n      <td>0</td>\n      <td>0</td>\n      <td>0</td>\n      <td>0</td>\n      <td>0</td>\n      <td>0</td>\n      <td>0</td>\n      <td>0</td>\n    </tr>\n    <tr>\n      <th>27998</th>\n      <td>0</td>\n      <td>0</td>\n      <td>0</td>\n      <td>0</td>\n      <td>0</td>\n      <td>0</td>\n      <td>0</td>\n      <td>0</td>\n      <td>0</td>\n      <td>0</td>\n      <td>...</td>\n      <td>0</td>\n      <td>0</td>\n      <td>0</td>\n      <td>0</td>\n      <td>0</td>\n      <td>0</td>\n      <td>0</td>\n      <td>0</td>\n      <td>0</td>\n      <td>0</td>\n    </tr>\n    <tr>\n      <th>27999</th>\n      <td>0</td>\n      <td>0</td>\n      <td>0</td>\n      <td>0</td>\n      <td>0</td>\n      <td>0</td>\n      <td>0</td>\n      <td>0</td>\n      <td>0</td>\n      <td>0</td>\n      <td>...</td>\n      <td>0</td>\n      <td>0</td>\n      <td>0</td>\n      <td>0</td>\n      <td>0</td>\n      <td>0</td>\n      <td>0</td>\n      <td>0</td>\n      <td>0</td>\n      <td>0</td>\n    </tr>\n  </tbody>\n</table>\n<p>28000 rows × 784 columns</p>\n</div>"
     },
     "execution_count": 4,
     "metadata": {},
     "output_type": "execute_result"
    }
   ],
   "source": [
    "test"
   ]
  },
  {
   "cell_type": "code",
   "execution_count": 5,
   "id": "0fdfaf42",
   "metadata": {
    "collapsed": false,
    "execution": {
     "iopub.execute_input": "2023-10-11T13:47:16.610237Z",
     "iopub.status.busy": "2023-10-11T13:47:16.609883Z",
     "iopub.status.idle": "2023-10-11T13:47:16.689055Z",
     "shell.execute_reply": "2023-10-11T13:47:16.687969Z"
    },
    "papermill": {
     "duration": 0.089498,
     "end_time": "2023-10-11T13:47:16.691349",
     "exception": false,
     "start_time": "2023-10-11T13:47:16.601851",
     "status": "completed"
    },
    "tags": [],
    "ExecuteTime": {
     "end_time": "2023-10-12T17:37:47.419422400Z",
     "start_time": "2023-10-12T17:37:47.163427900Z"
    }
   },
   "outputs": [],
   "source": [
    "test = np.array(test)"
   ]
  },
  {
   "cell_type": "code",
   "execution_count": 6,
   "id": "a1ce9735",
   "metadata": {
    "collapsed": false,
    "execution": {
     "iopub.execute_input": "2023-10-11T13:47:16.707028Z",
     "iopub.status.busy": "2023-10-11T13:47:16.706661Z",
     "iopub.status.idle": "2023-10-11T13:47:16.814517Z",
     "shell.execute_reply": "2023-10-11T13:47:16.813017Z"
    },
    "papermill": {
     "duration": 0.118067,
     "end_time": "2023-10-11T13:47:16.816648",
     "exception": false,
     "start_time": "2023-10-11T13:47:16.698581",
     "status": "completed"
    },
    "tags": [],
    "ExecuteTime": {
     "end_time": "2023-10-12T17:37:47.880859300Z",
     "start_time": "2023-10-12T17:37:47.271470200Z"
    }
   },
   "outputs": [],
   "source": [
    "y = train['label']\n",
    "X = train.drop('label', axis=1)"
   ]
  },
  {
   "cell_type": "code",
   "execution_count": 7,
   "id": "3c437d62",
   "metadata": {
    "collapsed": false,
    "execution": {
     "iopub.execute_input": "2023-10-11T13:47:16.832308Z",
     "iopub.status.busy": "2023-10-11T13:47:16.831213Z",
     "iopub.status.idle": "2023-10-11T13:47:16.851739Z",
     "shell.execute_reply": "2023-10-11T13:47:16.850888Z"
    },
    "papermill": {
     "duration": 0.030156,
     "end_time": "2023-10-11T13:47:16.853555",
     "exception": false,
     "start_time": "2023-10-11T13:47:16.823399",
     "status": "completed"
    },
    "tags": [],
    "ExecuteTime": {
     "end_time": "2023-10-12T17:37:48.000638900Z",
     "start_time": "2023-10-12T17:37:47.487101400Z"
    }
   },
   "outputs": [
    {
     "data": {
      "text/plain": "       pixel0  pixel1  pixel2  pixel3  pixel4  pixel5  pixel6  pixel7  pixel8  \\\n0           0       0       0       0       0       0       0       0       0   \n1           0       0       0       0       0       0       0       0       0   \n2           0       0       0       0       0       0       0       0       0   \n3           0       0       0       0       0       0       0       0       0   \n4           0       0       0       0       0       0       0       0       0   \n...       ...     ...     ...     ...     ...     ...     ...     ...     ...   \n41995       0       0       0       0       0       0       0       0       0   \n41996       0       0       0       0       0       0       0       0       0   \n41997       0       0       0       0       0       0       0       0       0   \n41998       0       0       0       0       0       0       0       0       0   \n41999       0       0       0       0       0       0       0       0       0   \n\n       pixel9  ...  pixel774  pixel775  pixel776  pixel777  pixel778  \\\n0           0  ...         0         0         0         0         0   \n1           0  ...         0         0         0         0         0   \n2           0  ...         0         0         0         0         0   \n3           0  ...         0         0         0         0         0   \n4           0  ...         0         0         0         0         0   \n...       ...  ...       ...       ...       ...       ...       ...   \n41995       0  ...         0         0         0         0         0   \n41996       0  ...         0         0         0         0         0   \n41997       0  ...         0         0         0         0         0   \n41998       0  ...         0         0         0         0         0   \n41999       0  ...         0         0         0         0         0   \n\n       pixel779  pixel780  pixel781  pixel782  pixel783  \n0             0         0         0         0         0  \n1             0         0         0         0         0  \n2             0         0         0         0         0  \n3             0         0         0         0         0  \n4             0         0         0         0         0  \n...         ...       ...       ...       ...       ...  \n41995         0         0         0         0         0  \n41996         0         0         0         0         0  \n41997         0         0         0         0         0  \n41998         0         0         0         0         0  \n41999         0         0         0         0         0  \n\n[42000 rows x 784 columns]",
      "text/html": "<div>\n<style scoped>\n    .dataframe tbody tr th:only-of-type {\n        vertical-align: middle;\n    }\n\n    .dataframe tbody tr th {\n        vertical-align: top;\n    }\n\n    .dataframe thead th {\n        text-align: right;\n    }\n</style>\n<table border=\"1\" class=\"dataframe\">\n  <thead>\n    <tr style=\"text-align: right;\">\n      <th></th>\n      <th>pixel0</th>\n      <th>pixel1</th>\n      <th>pixel2</th>\n      <th>pixel3</th>\n      <th>pixel4</th>\n      <th>pixel5</th>\n      <th>pixel6</th>\n      <th>pixel7</th>\n      <th>pixel8</th>\n      <th>pixel9</th>\n      <th>...</th>\n      <th>pixel774</th>\n      <th>pixel775</th>\n      <th>pixel776</th>\n      <th>pixel777</th>\n      <th>pixel778</th>\n      <th>pixel779</th>\n      <th>pixel780</th>\n      <th>pixel781</th>\n      <th>pixel782</th>\n      <th>pixel783</th>\n    </tr>\n  </thead>\n  <tbody>\n    <tr>\n      <th>0</th>\n      <td>0</td>\n      <td>0</td>\n      <td>0</td>\n      <td>0</td>\n      <td>0</td>\n      <td>0</td>\n      <td>0</td>\n      <td>0</td>\n      <td>0</td>\n      <td>0</td>\n      <td>...</td>\n      <td>0</td>\n      <td>0</td>\n      <td>0</td>\n      <td>0</td>\n      <td>0</td>\n      <td>0</td>\n      <td>0</td>\n      <td>0</td>\n      <td>0</td>\n      <td>0</td>\n    </tr>\n    <tr>\n      <th>1</th>\n      <td>0</td>\n      <td>0</td>\n      <td>0</td>\n      <td>0</td>\n      <td>0</td>\n      <td>0</td>\n      <td>0</td>\n      <td>0</td>\n      <td>0</td>\n      <td>0</td>\n      <td>...</td>\n      <td>0</td>\n      <td>0</td>\n      <td>0</td>\n      <td>0</td>\n      <td>0</td>\n      <td>0</td>\n      <td>0</td>\n      <td>0</td>\n      <td>0</td>\n      <td>0</td>\n    </tr>\n    <tr>\n      <th>2</th>\n      <td>0</td>\n      <td>0</td>\n      <td>0</td>\n      <td>0</td>\n      <td>0</td>\n      <td>0</td>\n      <td>0</td>\n      <td>0</td>\n      <td>0</td>\n      <td>0</td>\n      <td>...</td>\n      <td>0</td>\n      <td>0</td>\n      <td>0</td>\n      <td>0</td>\n      <td>0</td>\n      <td>0</td>\n      <td>0</td>\n      <td>0</td>\n      <td>0</td>\n      <td>0</td>\n    </tr>\n    <tr>\n      <th>3</th>\n      <td>0</td>\n      <td>0</td>\n      <td>0</td>\n      <td>0</td>\n      <td>0</td>\n      <td>0</td>\n      <td>0</td>\n      <td>0</td>\n      <td>0</td>\n      <td>0</td>\n      <td>...</td>\n      <td>0</td>\n      <td>0</td>\n      <td>0</td>\n      <td>0</td>\n      <td>0</td>\n      <td>0</td>\n      <td>0</td>\n      <td>0</td>\n      <td>0</td>\n      <td>0</td>\n    </tr>\n    <tr>\n      <th>4</th>\n      <td>0</td>\n      <td>0</td>\n      <td>0</td>\n      <td>0</td>\n      <td>0</td>\n      <td>0</td>\n      <td>0</td>\n      <td>0</td>\n      <td>0</td>\n      <td>0</td>\n      <td>...</td>\n      <td>0</td>\n      <td>0</td>\n      <td>0</td>\n      <td>0</td>\n      <td>0</td>\n      <td>0</td>\n      <td>0</td>\n      <td>0</td>\n      <td>0</td>\n      <td>0</td>\n    </tr>\n    <tr>\n      <th>...</th>\n      <td>...</td>\n      <td>...</td>\n      <td>...</td>\n      <td>...</td>\n      <td>...</td>\n      <td>...</td>\n      <td>...</td>\n      <td>...</td>\n      <td>...</td>\n      <td>...</td>\n      <td>...</td>\n      <td>...</td>\n      <td>...</td>\n      <td>...</td>\n      <td>...</td>\n      <td>...</td>\n      <td>...</td>\n      <td>...</td>\n      <td>...</td>\n      <td>...</td>\n      <td>...</td>\n    </tr>\n    <tr>\n      <th>41995</th>\n      <td>0</td>\n      <td>0</td>\n      <td>0</td>\n      <td>0</td>\n      <td>0</td>\n      <td>0</td>\n      <td>0</td>\n      <td>0</td>\n      <td>0</td>\n      <td>0</td>\n      <td>...</td>\n      <td>0</td>\n      <td>0</td>\n      <td>0</td>\n      <td>0</td>\n      <td>0</td>\n      <td>0</td>\n      <td>0</td>\n      <td>0</td>\n      <td>0</td>\n      <td>0</td>\n    </tr>\n    <tr>\n      <th>41996</th>\n      <td>0</td>\n      <td>0</td>\n      <td>0</td>\n      <td>0</td>\n      <td>0</td>\n      <td>0</td>\n      <td>0</td>\n      <td>0</td>\n      <td>0</td>\n      <td>0</td>\n      <td>...</td>\n      <td>0</td>\n      <td>0</td>\n      <td>0</td>\n      <td>0</td>\n      <td>0</td>\n      <td>0</td>\n      <td>0</td>\n      <td>0</td>\n      <td>0</td>\n      <td>0</td>\n    </tr>\n    <tr>\n      <th>41997</th>\n      <td>0</td>\n      <td>0</td>\n      <td>0</td>\n      <td>0</td>\n      <td>0</td>\n      <td>0</td>\n      <td>0</td>\n      <td>0</td>\n      <td>0</td>\n      <td>0</td>\n      <td>...</td>\n      <td>0</td>\n      <td>0</td>\n      <td>0</td>\n      <td>0</td>\n      <td>0</td>\n      <td>0</td>\n      <td>0</td>\n      <td>0</td>\n      <td>0</td>\n      <td>0</td>\n    </tr>\n    <tr>\n      <th>41998</th>\n      <td>0</td>\n      <td>0</td>\n      <td>0</td>\n      <td>0</td>\n      <td>0</td>\n      <td>0</td>\n      <td>0</td>\n      <td>0</td>\n      <td>0</td>\n      <td>0</td>\n      <td>...</td>\n      <td>0</td>\n      <td>0</td>\n      <td>0</td>\n      <td>0</td>\n      <td>0</td>\n      <td>0</td>\n      <td>0</td>\n      <td>0</td>\n      <td>0</td>\n      <td>0</td>\n    </tr>\n    <tr>\n      <th>41999</th>\n      <td>0</td>\n      <td>0</td>\n      <td>0</td>\n      <td>0</td>\n      <td>0</td>\n      <td>0</td>\n      <td>0</td>\n      <td>0</td>\n      <td>0</td>\n      <td>0</td>\n      <td>...</td>\n      <td>0</td>\n      <td>0</td>\n      <td>0</td>\n      <td>0</td>\n      <td>0</td>\n      <td>0</td>\n      <td>0</td>\n      <td>0</td>\n      <td>0</td>\n      <td>0</td>\n    </tr>\n  </tbody>\n</table>\n<p>42000 rows × 784 columns</p>\n</div>"
     },
     "execution_count": 7,
     "metadata": {},
     "output_type": "execute_result"
    }
   ],
   "source": [
    "X"
   ]
  },
  {
   "cell_type": "code",
   "execution_count": 8,
   "id": "78c957a6",
   "metadata": {
    "collapsed": false,
    "execution": {
     "iopub.execute_input": "2023-10-11T13:47:16.86991Z",
     "iopub.status.busy": "2023-10-11T13:47:16.868917Z",
     "iopub.status.idle": "2023-10-11T13:47:16.875665Z",
     "shell.execute_reply": "2023-10-11T13:47:16.874933Z"
    },
    "papermill": {
     "duration": 0.016978,
     "end_time": "2023-10-11T13:47:16.877691",
     "exception": false,
     "start_time": "2023-10-11T13:47:16.860713",
     "status": "completed"
    },
    "tags": [],
    "ExecuteTime": {
     "end_time": "2023-10-12T17:37:48.098189600Z",
     "start_time": "2023-10-12T17:37:47.542470300Z"
    }
   },
   "outputs": [
    {
     "data": {
      "text/plain": "0        1\n1        0\n2        1\n3        4\n4        0\n        ..\n41995    0\n41996    1\n41997    7\n41998    6\n41999    9\nName: label, Length: 42000, dtype: int64"
     },
     "execution_count": 8,
     "metadata": {},
     "output_type": "execute_result"
    }
   ],
   "source": [
    "y"
   ]
  },
  {
   "cell_type": "code",
   "execution_count": 9,
   "id": "839e54f1",
   "metadata": {
    "execution": {
     "iopub.execute_input": "2023-10-11T13:47:16.893918Z",
     "iopub.status.busy": "2023-10-11T13:47:16.893479Z",
     "iopub.status.idle": "2023-10-11T13:47:16.898958Z",
     "shell.execute_reply": "2023-10-11T13:47:16.898223Z"
    },
    "papermill": {
     "duration": 0.015667,
     "end_time": "2023-10-11T13:47:16.900733",
     "exception": false,
     "start_time": "2023-10-11T13:47:16.885066",
     "status": "completed"
    },
    "tags": [],
    "ExecuteTime": {
     "end_time": "2023-10-12T17:37:48.100192100Z",
     "start_time": "2023-10-12T17:37:47.559634900Z"
    }
   },
   "outputs": [
    {
     "data": {
      "text/plain": "dtype('int64')"
     },
     "execution_count": 9,
     "metadata": {},
     "output_type": "execute_result"
    }
   ],
   "source": [
    "test.dtype"
   ]
  },
  {
   "cell_type": "code",
   "execution_count": 10,
   "id": "a55e918f",
   "metadata": {
    "collapsed": false,
    "execution": {
     "iopub.execute_input": "2023-10-11T13:47:16.917155Z",
     "iopub.status.busy": "2023-10-11T13:47:16.91644Z",
     "iopub.status.idle": "2023-10-11T13:47:17.075978Z",
     "shell.execute_reply": "2023-10-11T13:47:17.074869Z"
    },
    "papermill": {
     "duration": 0.170566,
     "end_time": "2023-10-11T13:47:17.078484",
     "exception": false,
     "start_time": "2023-10-11T13:47:16.907918",
     "status": "completed"
    },
    "tags": [],
    "ExecuteTime": {
     "end_time": "2023-10-12T17:37:48.506506300Z",
     "start_time": "2023-10-12T17:37:47.577347800Z"
    }
   },
   "outputs": [],
   "source": [
    "X = X/255\n",
    "test = test/255"
   ]
  },
  {
   "cell_type": "code",
   "execution_count": 11,
   "id": "3312477a",
   "metadata": {
    "execution": {
     "iopub.execute_input": "2023-10-11T13:47:17.095539Z",
     "iopub.status.busy": "2023-10-11T13:47:17.095157Z",
     "iopub.status.idle": "2023-10-11T13:47:17.102127Z",
     "shell.execute_reply": "2023-10-11T13:47:17.100969Z"
    },
    "papermill": {
     "duration": 0.017728,
     "end_time": "2023-10-11T13:47:17.103978",
     "exception": false,
     "start_time": "2023-10-11T13:47:17.08625",
     "status": "completed"
    },
    "tags": [],
    "ExecuteTime": {
     "end_time": "2023-10-12T17:37:48.583811200Z",
     "start_time": "2023-10-12T17:37:47.985944300Z"
    }
   },
   "outputs": [
    {
     "data": {
      "text/plain": "array([[0., 0., 0., ..., 0., 0., 0.],\n       [0., 0., 0., ..., 0., 0., 0.],\n       [0., 0., 0., ..., 0., 0., 0.],\n       ...,\n       [0., 0., 0., ..., 0., 0., 0.],\n       [0., 0., 0., ..., 0., 0., 0.],\n       [0., 0., 0., ..., 0., 0., 0.]])"
     },
     "execution_count": 11,
     "metadata": {},
     "output_type": "execute_result"
    }
   ],
   "source": [
    "test"
   ]
  },
  {
   "cell_type": "code",
   "execution_count": 12,
   "id": "7f87da59",
   "metadata": {
    "execution": {
     "iopub.execute_input": "2023-10-11T13:47:17.120563Z",
     "iopub.status.busy": "2023-10-11T13:47:17.120135Z",
     "iopub.status.idle": "2023-10-11T13:47:17.229143Z",
     "shell.execute_reply": "2023-10-11T13:47:17.227906Z"
    },
    "papermill": {
     "duration": 0.120195,
     "end_time": "2023-10-11T13:47:17.23156",
     "exception": false,
     "start_time": "2023-10-11T13:47:17.111365",
     "status": "completed"
    },
    "tags": [],
    "ExecuteTime": {
     "end_time": "2023-10-12T17:37:48.879210500Z",
     "start_time": "2023-10-12T17:37:48.002653800Z"
    }
   },
   "outputs": [],
   "source": [
    "X = np.array(X)"
   ]
  },
  {
   "cell_type": "code",
   "execution_count": 13,
   "id": "ce0d99d8",
   "metadata": {
    "execution": {
     "iopub.execute_input": "2023-10-11T13:47:17.248078Z",
     "iopub.status.busy": "2023-10-11T13:47:17.247597Z",
     "iopub.status.idle": "2023-10-11T13:47:17.253083Z",
     "shell.execute_reply": "2023-10-11T13:47:17.251975Z"
    },
    "papermill": {
     "duration": 0.016575,
     "end_time": "2023-10-11T13:47:17.255513",
     "exception": false,
     "start_time": "2023-10-11T13:47:17.238938",
     "status": "completed"
    },
    "tags": [],
    "ExecuteTime": {
     "end_time": "2023-10-12T17:37:48.880227400Z",
     "start_time": "2023-10-12T17:37:48.242945100Z"
    }
   },
   "outputs": [],
   "source": [
    "X = X.reshape(-1, 28, 28, 1)\n",
    "test = test.reshape(-1, 28, 28, 1)"
   ]
  },
  {
   "cell_type": "code",
   "execution_count": 14,
   "id": "2ce1783b",
   "metadata": {
    "execution": {
     "iopub.execute_input": "2023-10-11T13:47:17.273421Z",
     "iopub.status.busy": "2023-10-11T13:47:17.273049Z",
     "iopub.status.idle": "2023-10-11T13:47:17.28026Z",
     "shell.execute_reply": "2023-10-11T13:47:17.279167Z"
    },
    "papermill": {
     "duration": 0.018425,
     "end_time": "2023-10-11T13:47:17.282243",
     "exception": false,
     "start_time": "2023-10-11T13:47:17.263818",
     "status": "completed"
    },
    "tags": [],
    "ExecuteTime": {
     "end_time": "2023-10-12T17:37:48.905256Z",
     "start_time": "2023-10-12T17:37:48.262726100Z"
    }
   },
   "outputs": [
    {
     "data": {
      "text/plain": "(42000, 28, 28, 1)"
     },
     "execution_count": 14,
     "metadata": {},
     "output_type": "execute_result"
    }
   ],
   "source": [
    "X.shape"
   ]
  },
  {
   "cell_type": "code",
   "execution_count": 15,
   "id": "0cacf7b4",
   "metadata": {
    "execution": {
     "iopub.execute_input": "2023-10-11T13:47:17.29901Z",
     "iopub.status.busy": "2023-10-11T13:47:17.298643Z",
     "iopub.status.idle": "2023-10-11T13:47:17.305177Z",
     "shell.execute_reply": "2023-10-11T13:47:17.304178Z"
    },
    "papermill": {
     "duration": 0.017565,
     "end_time": "2023-10-11T13:47:17.307322",
     "exception": false,
     "start_time": "2023-10-11T13:47:17.289757",
     "status": "completed"
    },
    "tags": [],
    "ExecuteTime": {
     "end_time": "2023-10-12T17:37:48.907248200Z",
     "start_time": "2023-10-12T17:37:48.286052800Z"
    }
   },
   "outputs": [
    {
     "data": {
      "text/plain": "dtype('float64')"
     },
     "execution_count": 15,
     "metadata": {},
     "output_type": "execute_result"
    }
   ],
   "source": [
    "test.dtype"
   ]
  },
  {
   "cell_type": "code",
   "execution_count": 16,
   "id": "6d6e9f99",
   "metadata": {
    "collapsed": false,
    "execution": {
     "iopub.execute_input": "2023-10-11T13:47:17.324133Z",
     "iopub.status.busy": "2023-10-11T13:47:17.323748Z",
     "iopub.status.idle": "2023-10-11T13:47:17.462688Z",
     "shell.execute_reply": "2023-10-11T13:47:17.461688Z"
    },
    "papermill": {
     "duration": 0.149995,
     "end_time": "2023-10-11T13:47:17.46507",
     "exception": false,
     "start_time": "2023-10-11T13:47:17.315075",
     "status": "completed"
    },
    "tags": [],
    "ExecuteTime": {
     "end_time": "2023-10-12T17:37:49.498035200Z",
     "start_time": "2023-10-12T17:37:48.304178300Z"
    }
   },
   "outputs": [],
   "source": [
    "from tensorflow.keras.layers import Conv2D, MaxPool2D, Flatten, Dense\n",
    "\n",
    "model = tf.keras.Sequential(\n",
    "    [\n",
    "        Conv2D(64, kernel_size=(3, 3), activation=tf.nn.relu),\n",
    "        MaxPool2D(pool_size=(2, 2)),\n",
    "        Conv2D(32, kernel_size=(3, 3), activation=tf.nn.relu),\n",
    "        MaxPool2D(pool_size=(2, 2)),\n",
    "        Conv2D(16, kernel_size=(3, 3), activation=tf.nn.relu),\n",
    "        MaxPool2D(pool_size=(2, 2)),\n",
    "        Flatten(),\n",
    "        Dense(512, activation=tf.nn.relu),\n",
    "        Dense(256, activation=tf.nn.relu),\n",
    "        Dense(128, activation=tf.nn.relu),\n",
    "        Dense(10, activation=tf.nn.softmax)\n",
    "    ]\n",
    ")"
   ]
  },
  {
   "cell_type": "code",
   "execution_count": 17,
   "id": "d75f5c6c",
   "metadata": {
    "collapsed": false,
    "execution": {
     "iopub.execute_input": "2023-10-11T13:47:17.482197Z",
     "iopub.status.busy": "2023-10-11T13:47:17.481786Z",
     "iopub.status.idle": "2023-10-11T13:47:17.513828Z",
     "shell.execute_reply": "2023-10-11T13:47:17.512606Z"
    },
    "papermill": {
     "duration": 0.043372,
     "end_time": "2023-10-11T13:47:17.516292",
     "exception": false,
     "start_time": "2023-10-11T13:47:17.47292",
     "status": "completed"
    },
    "tags": [],
    "ExecuteTime": {
     "end_time": "2023-10-12T17:37:49.536572500Z",
     "start_time": "2023-10-12T17:37:48.830569600Z"
    }
   },
   "outputs": [],
   "source": [
    "model.compile(\n",
    "    optimizer='adam',\n",
    "    loss='sparse_categorical_crossentropy',\n",
    "    metrics=['accuracy']\n",
    ")"
   ]
  },
  {
   "cell_type": "code",
   "execution_count": 18,
   "id": "30f56984",
   "metadata": {
    "collapsed": false,
    "execution": {
     "iopub.execute_input": "2023-10-11T13:47:17.533741Z",
     "iopub.status.busy": "2023-10-11T13:47:17.533009Z",
     "iopub.status.idle": "2023-10-11T14:09:41.686963Z",
     "shell.execute_reply": "2023-10-11T14:09:41.685496Z"
    },
    "papermill": {
     "duration": 1344.165784,
     "end_time": "2023-10-11T14:09:41.689739",
     "exception": false,
     "start_time": "2023-10-11T13:47:17.523955",
     "status": "completed"
    },
    "tags": [],
    "ExecuteTime": {
     "end_time": "2023-10-12T18:07:47.028727900Z",
     "start_time": "2023-10-12T17:37:48.889235500Z"
    }
   },
   "outputs": [
    {
     "name": "stdout",
     "output_type": "stream",
     "text": [
      "Epoch 1/50\n",
      "1050/1050 [==============================] - 47s 41ms/step - loss: 0.3653 - accuracy: 0.8802 - val_loss: 0.1782 - val_accuracy: 0.9465\n",
      "Epoch 2/50\n",
      "1050/1050 [==============================] - 41s 39ms/step - loss: 0.1320 - accuracy: 0.9580 - val_loss: 0.0878 - val_accuracy: 0.9711\n",
      "Epoch 3/50\n",
      "1050/1050 [==============================] - 39s 37ms/step - loss: 0.0961 - accuracy: 0.9697 - val_loss: 0.1043 - val_accuracy: 0.9668\n",
      "Epoch 4/50\n",
      "1050/1050 [==============================] - 38s 36ms/step - loss: 0.0829 - accuracy: 0.9743 - val_loss: 0.0771 - val_accuracy: 0.9751\n",
      "Epoch 5/50\n",
      "1050/1050 [==============================] - 40s 38ms/step - loss: 0.0722 - accuracy: 0.9772 - val_loss: 0.0729 - val_accuracy: 0.9782\n",
      "Epoch 6/50\n",
      "1050/1050 [==============================] - 38s 36ms/step - loss: 0.0618 - accuracy: 0.9810 - val_loss: 0.0835 - val_accuracy: 0.9757\n",
      "Epoch 7/50\n",
      "1050/1050 [==============================] - 38s 36ms/step - loss: 0.0551 - accuracy: 0.9832 - val_loss: 0.0880 - val_accuracy: 0.9774\n",
      "Epoch 8/50\n",
      "1050/1050 [==============================] - 36s 35ms/step - loss: 0.0520 - accuracy: 0.9840 - val_loss: 0.0762 - val_accuracy: 0.9796\n",
      "Epoch 9/50\n",
      "1050/1050 [==============================] - 34s 33ms/step - loss: 0.0456 - accuracy: 0.9859 - val_loss: 0.1277 - val_accuracy: 0.9651\n",
      "Epoch 10/50\n",
      "1050/1050 [==============================] - 34s 32ms/step - loss: 0.0413 - accuracy: 0.9871 - val_loss: 0.0708 - val_accuracy: 0.9811\n",
      "Epoch 11/50\n",
      "1050/1050 [==============================] - 35s 33ms/step - loss: 0.0367 - accuracy: 0.9885 - val_loss: 0.0574 - val_accuracy: 0.9849\n",
      "Epoch 12/50\n",
      "1050/1050 [==============================] - 37s 36ms/step - loss: 0.0340 - accuracy: 0.9892 - val_loss: 0.0575 - val_accuracy: 0.9840\n",
      "Epoch 13/50\n",
      "1050/1050 [==============================] - 38s 36ms/step - loss: 0.0333 - accuracy: 0.9894 - val_loss: 0.0645 - val_accuracy: 0.9843\n",
      "Epoch 14/50\n",
      "1050/1050 [==============================] - 36s 35ms/step - loss: 0.0277 - accuracy: 0.9915 - val_loss: 0.0629 - val_accuracy: 0.9852\n",
      "Epoch 15/50\n",
      "1050/1050 [==============================] - 37s 35ms/step - loss: 0.0255 - accuracy: 0.9921 - val_loss: 0.0717 - val_accuracy: 0.9805\n",
      "Epoch 16/50\n",
      "1050/1050 [==============================] - 36s 34ms/step - loss: 0.0272 - accuracy: 0.9916 - val_loss: 0.0728 - val_accuracy: 0.9832\n",
      "Epoch 17/50\n",
      "1050/1050 [==============================] - 36s 34ms/step - loss: 0.0238 - accuracy: 0.9927 - val_loss: 0.0704 - val_accuracy: 0.9844\n",
      "Epoch 18/50\n",
      "1050/1050 [==============================] - 36s 34ms/step - loss: 0.0221 - accuracy: 0.9937 - val_loss: 0.0662 - val_accuracy: 0.9865\n",
      "Epoch 19/50\n",
      "1050/1050 [==============================] - 37s 35ms/step - loss: 0.0204 - accuracy: 0.9938 - val_loss: 0.1131 - val_accuracy: 0.9783\n",
      "Epoch 20/50\n",
      "1050/1050 [==============================] - 37s 35ms/step - loss: 0.0217 - accuracy: 0.9934 - val_loss: 0.0729 - val_accuracy: 0.9850\n",
      "Epoch 21/50\n",
      "1050/1050 [==============================] - 36s 35ms/step - loss: 0.0198 - accuracy: 0.9939 - val_loss: 0.0750 - val_accuracy: 0.9857\n",
      "Epoch 22/50\n",
      "1050/1050 [==============================] - 39s 37ms/step - loss: 0.0181 - accuracy: 0.9944 - val_loss: 0.1032 - val_accuracy: 0.9808\n",
      "Epoch 23/50\n",
      "1050/1050 [==============================] - 38s 36ms/step - loss: 0.0189 - accuracy: 0.9942 - val_loss: 0.0835 - val_accuracy: 0.9857\n",
      "Epoch 24/50\n",
      "1050/1050 [==============================] - 37s 35ms/step - loss: 0.0165 - accuracy: 0.9950 - val_loss: 0.0917 - val_accuracy: 0.9833\n",
      "Epoch 25/50\n",
      "1050/1050 [==============================] - 44s 42ms/step - loss: 0.0152 - accuracy: 0.9955 - val_loss: 0.0889 - val_accuracy: 0.9831\n",
      "Epoch 26/50\n",
      "1050/1050 [==============================] - 40s 38ms/step - loss: 0.0200 - accuracy: 0.9944 - val_loss: 0.0819 - val_accuracy: 0.9852\n",
      "Epoch 27/50\n",
      "1050/1050 [==============================] - 34s 33ms/step - loss: 0.0165 - accuracy: 0.9951 - val_loss: 0.0871 - val_accuracy: 0.9846\n",
      "Epoch 28/50\n",
      "1050/1050 [==============================] - 34s 33ms/step - loss: 0.0133 - accuracy: 0.9955 - val_loss: 0.0994 - val_accuracy: 0.9852\n",
      "Epoch 29/50\n",
      "1050/1050 [==============================] - 35s 33ms/step - loss: 0.0138 - accuracy: 0.9962 - val_loss: 0.0817 - val_accuracy: 0.9854\n",
      "Epoch 30/50\n",
      "1050/1050 [==============================] - 35s 34ms/step - loss: 0.0149 - accuracy: 0.9955 - val_loss: 0.0857 - val_accuracy: 0.9837\n",
      "Epoch 31/50\n",
      "1050/1050 [==============================] - 36s 34ms/step - loss: 0.0168 - accuracy: 0.9954 - val_loss: 0.1183 - val_accuracy: 0.9820\n",
      "Epoch 32/50\n",
      "1050/1050 [==============================] - 37s 35ms/step - loss: 0.0125 - accuracy: 0.9961 - val_loss: 0.0811 - val_accuracy: 0.9874\n",
      "Epoch 33/50\n",
      "1050/1050 [==============================] - 35s 33ms/step - loss: 0.0126 - accuracy: 0.9961 - val_loss: 0.0863 - val_accuracy: 0.9836\n",
      "Epoch 34/50\n",
      "1050/1050 [==============================] - 34s 33ms/step - loss: 0.0127 - accuracy: 0.9965 - val_loss: 0.1052 - val_accuracy: 0.9838\n",
      "Epoch 35/50\n",
      "1050/1050 [==============================] - 33s 32ms/step - loss: 0.0177 - accuracy: 0.9953 - val_loss: 0.0954 - val_accuracy: 0.9851\n",
      "Epoch 36/50\n",
      "1050/1050 [==============================] - 33s 32ms/step - loss: 0.0138 - accuracy: 0.9959 - val_loss: 0.1005 - val_accuracy: 0.9855\n",
      "Epoch 37/50\n",
      "1050/1050 [==============================] - 34s 32ms/step - loss: 0.0100 - accuracy: 0.9974 - val_loss: 0.1105 - val_accuracy: 0.9823\n",
      "Epoch 38/50\n",
      "1050/1050 [==============================] - 34s 32ms/step - loss: 0.0149 - accuracy: 0.9956 - val_loss: 0.1038 - val_accuracy: 0.9846\n",
      "Epoch 39/50\n",
      "1050/1050 [==============================] - 33s 32ms/step - loss: 0.0102 - accuracy: 0.9974 - val_loss: 0.1102 - val_accuracy: 0.9843\n",
      "Epoch 40/50\n",
      "1050/1050 [==============================] - 33s 32ms/step - loss: 0.0155 - accuracy: 0.9954 - val_loss: 0.1028 - val_accuracy: 0.9848\n",
      "Epoch 41/50\n",
      "1050/1050 [==============================] - 33s 31ms/step - loss: 0.0110 - accuracy: 0.9966 - val_loss: 0.1060 - val_accuracy: 0.9857\n",
      "Epoch 42/50\n",
      "1050/1050 [==============================] - 33s 31ms/step - loss: 0.0147 - accuracy: 0.9954 - val_loss: 0.1000 - val_accuracy: 0.9869\n",
      "Epoch 43/50\n",
      "1050/1050 [==============================] - 33s 31ms/step - loss: 0.0120 - accuracy: 0.9970 - val_loss: 0.1157 - val_accuracy: 0.9838\n",
      "Epoch 44/50\n",
      "1050/1050 [==============================] - 33s 32ms/step - loss: 0.0115 - accuracy: 0.9962 - val_loss: 0.1299 - val_accuracy: 0.9823\n",
      "Epoch 45/50\n",
      "1050/1050 [==============================] - 33s 31ms/step - loss: 0.0127 - accuracy: 0.9963 - val_loss: 0.1052 - val_accuracy: 0.9840\n",
      "Epoch 46/50\n",
      "1050/1050 [==============================] - 34s 32ms/step - loss: 0.0086 - accuracy: 0.9972 - val_loss: 0.1533 - val_accuracy: 0.9811\n",
      "Epoch 47/50\n",
      "1050/1050 [==============================] - 32s 31ms/step - loss: 0.0122 - accuracy: 0.9968 - val_loss: 0.1192 - val_accuracy: 0.9857\n",
      "Epoch 48/50\n",
      "1050/1050 [==============================] - 34s 32ms/step - loss: 0.0091 - accuracy: 0.9974 - val_loss: 0.1294 - val_accuracy: 0.9865\n",
      "Epoch 49/50\n",
      "1050/1050 [==============================] - 34s 32ms/step - loss: 0.0092 - accuracy: 0.9971 - val_loss: 0.1431 - val_accuracy: 0.9842\n",
      "Epoch 50/50\n",
      "1050/1050 [==============================] - 34s 33ms/step - loss: 0.0124 - accuracy: 0.9964 - val_loss: 0.1403 - val_accuracy: 0.9821\n"
     ]
    }
   ],
   "source": [
    "h = model.fit(\n",
    "    X, \n",
    "    y, \n",
    "    epochs=50,\n",
    "    validation_split=0.2\n",
    ")"
   ]
  },
  {
   "cell_type": "code",
   "execution_count": 19,
   "id": "4c569178",
   "metadata": {
    "collapsed": false,
    "execution": {
     "iopub.execute_input": "2023-10-11T14:09:43.865306Z",
     "iopub.status.busy": "2023-10-11T14:09:43.864942Z",
     "iopub.status.idle": "2023-10-11T14:09:50.738208Z",
     "shell.execute_reply": "2023-10-11T14:09:50.73694Z"
    },
    "papermill": {
     "duration": 7.905995,
     "end_time": "2023-10-11T14:09:50.741862",
     "exception": false,
     "start_time": "2023-10-11T14:09:42.835867",
     "status": "completed"
    },
    "tags": [],
    "ExecuteTime": {
     "end_time": "2023-10-12T18:07:57.085921300Z",
     "start_time": "2023-10-12T18:07:47.023725400Z"
    }
   },
   "outputs": [
    {
     "name": "stdout",
     "output_type": "stream",
     "text": [
      "875/875 [==============================] - 9s 10ms/step\n"
     ]
    },
    {
     "data": {
      "text/plain": "array([[0.0000000e+00, 0.0000000e+00, 1.0000000e+00, ..., 0.0000000e+00,\n        5.4105176e-34, 0.0000000e+00],\n       [1.0000000e+00, 1.8049835e-26, 1.9253145e-17, ..., 2.8618788e-17,\n        4.0918602e-24, 2.3033154e-17],\n       [1.6169422e-16, 1.1495835e-24, 1.5386563e-20, ..., 1.2638978e-13,\n        1.3318467e-10, 1.0000000e+00],\n       ...,\n       [0.0000000e+00, 5.1046456e-35, 1.9592728e-22, ..., 1.1009120e-28,\n        6.4161552e-28, 5.1947730e-35],\n       [1.7460520e-16, 2.1693190e-24, 7.6957502e-23, ..., 1.6714020e-14,\n        4.1087541e-12, 1.0000000e+00],\n       [0.0000000e+00, 0.0000000e+00, 1.0000000e+00, ..., 1.0095297e-35,\n        1.7147483e-27, 0.0000000e+00]], dtype=float32)"
     },
     "execution_count": 19,
     "metadata": {},
     "output_type": "execute_result"
    }
   ],
   "source": [
    "y_pred = model.predict(test)\n",
    "y_pred"
   ]
  },
  {
   "cell_type": "code",
   "execution_count": 20,
   "id": "d2ed60be",
   "metadata": {
    "collapsed": false,
    "execution": {
     "iopub.execute_input": "2023-10-11T14:09:52.919496Z",
     "iopub.status.busy": "2023-10-11T14:09:52.919134Z",
     "iopub.status.idle": "2023-10-11T14:09:52.927197Z",
     "shell.execute_reply": "2023-10-11T14:09:52.926118Z"
    },
    "papermill": {
     "duration": 1.098577,
     "end_time": "2023-10-11T14:09:52.929157",
     "exception": false,
     "start_time": "2023-10-11T14:09:51.83058",
     "status": "completed"
    },
    "tags": [],
    "ExecuteTime": {
     "end_time": "2023-10-12T18:07:57.086921800Z",
     "start_time": "2023-10-12T18:07:57.070794100Z"
    }
   },
   "outputs": [
    {
     "data": {
      "text/plain": "array([2., 0., 9., ..., 3., 9., 2.])"
     },
     "execution_count": 20,
     "metadata": {},
     "output_type": "execute_result"
    }
   ],
   "source": [
    "y_pred = np.argmax(y_pred, axis=1)\n",
    "y_pred = y_pred.astype('float64')\n",
    "y_pred"
   ]
  },
  {
   "cell_type": "code",
   "execution_count": 21,
   "id": "a44913f7",
   "metadata": {
    "collapsed": false,
    "execution": {
     "iopub.execute_input": "2023-10-11T14:09:55.033025Z",
     "iopub.status.busy": "2023-10-11T14:09:55.03187Z",
     "iopub.status.idle": "2023-10-11T14:10:01.431025Z",
     "shell.execute_reply": "2023-10-11T14:10:01.429727Z"
    },
    "papermill": {
     "duration": 7.492758,
     "end_time": "2023-10-11T14:10:01.43334",
     "exception": false,
     "start_time": "2023-10-11T14:09:53.940582",
     "status": "completed"
    },
    "tags": [],
    "ExecuteTime": {
     "end_time": "2023-10-12T18:08:06.391621700Z",
     "start_time": "2023-10-12T18:07:57.085921300Z"
    }
   },
   "outputs": [
    {
     "name": "stdout",
     "output_type": "stream",
     "text": [
      "875/875 [==============================] - 9s 10ms/step - loss: 0.0080 - accuracy: 1.0000\n"
     ]
    },
    {
     "data": {
      "text/plain": "[0.007974624633789062, 1.0]"
     },
     "execution_count": 21,
     "metadata": {},
     "output_type": "execute_result"
    }
   ],
   "source": [
    "model.evaluate(test, y_pred)"
   ]
  },
  {
   "cell_type": "code",
   "execution_count": 22,
   "id": "9ed05191",
   "metadata": {
    "collapsed": false,
    "execution": {
     "iopub.execute_input": "2023-10-11T14:10:03.538281Z",
     "iopub.status.busy": "2023-10-11T14:10:03.537887Z",
     "iopub.status.idle": "2023-10-11T14:10:03.873085Z",
     "shell.execute_reply": "2023-10-11T14:10:03.87184Z"
    },
    "papermill": {
     "duration": 1.347917,
     "end_time": "2023-10-11T14:10:03.87528",
     "exception": false,
     "start_time": "2023-10-11T14:10:02.527363",
     "status": "completed"
    },
    "tags": [],
    "ExecuteTime": {
     "end_time": "2023-10-12T18:08:07.021460700Z",
     "start_time": "2023-10-12T18:08:06.363625900Z"
    }
   },
   "outputs": [
    {
     "data": {
      "text/plain": "<Figure size 1000x1000 with 1 Axes>",
      "image/png": "[encoded data removed]"
     },
     "metadata": {},
     "output_type": "display_data"
    }
   ],
   "source": [
    "plt.figure(figsize=(10, 10))\n",
    "plt.plot(h.history['loss'])\n",
    "plt.plot(h.history['val_accuracy'])\n",
    "plt.plot(h.history['accuracy'])\n",
    "plt.legend(['loss', 'val_accuracy', 'accuracy'])\n",
    "plt.show()"
   ]
  },
  {
   "cell_type": "code",
   "execution_count": 23,
   "id": "d0974047",
   "metadata": {
    "collapsed": false,
    "execution": {
     "iopub.execute_input": "2023-10-11T14:10:06.107669Z",
     "iopub.status.busy": "2023-10-11T14:10:06.10643Z",
     "iopub.status.idle": "2023-10-11T14:10:06.163648Z",
     "shell.execute_reply": "2023-10-11T14:10:06.162097Z"
    },
    "papermill": {
     "duration": 1.171893,
     "end_time": "2023-10-11T14:10:06.167349",
     "exception": false,
     "start_time": "2023-10-11T14:10:04.995456",
     "status": "completed"
    },
    "tags": [],
    "ExecuteTime": {
     "end_time": "2023-10-12T18:08:07.280979Z",
     "start_time": "2023-10-12T18:08:07.022461400Z"
    }
   },
   "outputs": [],
   "source": [
    "submission = pd.DataFrame(\n",
    "    {\n",
    "        'ImageId': range(1, len(y_pred) + 1),\n",
    "        'Label': y_pred\n",
    "    }\n",
    ")\n",
    "submission.to_csv('submission.csv', index=False)"
   ]
  },
  {
   "cell_type": "code",
   "execution_count": 24,
   "id": "4bc21e38",
   "metadata": {
    "execution": {
     "iopub.execute_input": "2023-10-11T14:10:08.397835Z",
     "iopub.status.busy": "2023-10-11T14:10:08.396677Z",
     "iopub.status.idle": "2023-10-11T14:10:08.455964Z",
     "shell.execute_reply": "2023-10-11T14:10:08.454881Z"
    },
    "papermill": {
     "duration": 1.163788,
     "end_time": "2023-10-11T14:10:08.458245",
     "exception": false,
     "start_time": "2023-10-11T14:10:07.294457",
     "status": "completed"
    },
    "tags": [],
    "ExecuteTime": {
     "end_time": "2023-10-12T18:08:07.281977800Z",
     "start_time": "2023-10-12T18:08:07.125601Z"
    }
   },
   "outputs": [
    {
     "name": "stderr",
     "output_type": "stream",
     "text": [
      "C:\\Users\\moham\\anaconda3\\Lib\\site-packages\\keras\\src\\engine\\training.py:3000: UserWarning: You are saving your model as an HDF5 file via `model.save()`. This file format is considered legacy. We recommend using instead the native Keras format, e.g. `model.save('my_model.keras')`.\n",
      "  saving_api.save_model(\n"
     ]
    }
   ],
   "source": [
    "model.save('Model/model.h5')"
   ]
  }
 ],
 "metadata": {
  "kernelspec": {
   "display_name": "Python 3",
   "language": "python",
   "name": "python3"
  },
  "language_info": {
   "codemirror_mode": {
    "name": "ipython",
    "version": 3
   },
   "file_extension": ".py",
   "mimetype": "text/x-python",
   "name": "python",
   "nbconvert_exporter": "python",
   "pygments_lexer": "ipython3",
   "version": "3.10.12"
  },
  "papermill": {
   "default_parameters": {},
   "duration": 1402.567726,
   "end_time": "2023-10-11T14:10:12.254783",
   "environment_variables": {},
   "exception": null,
   "input_path": "__notebook__.ipynb",
   "output_path": "__notebook__.ipynb",
   "parameters": {},
   "start_time": "2023-10-11T13:46:49.687057",
   "version": "2.4.0"
  }
 },
 "nbformat": 4,
 "nbformat_minor": 5
}
