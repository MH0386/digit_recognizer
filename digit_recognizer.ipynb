{
 "cells": [
  {
   "cell_type": "markdown",
   "source": [
    "<a href=\"https://www.kaggle.com/code/mh0386/digit-recognizer\" target=\"_blank\"><img align=\"left\" alt=\"Kaggle\" title=\"Open in Kaggle\" src=\"https://kaggle.com/static/images/open-in-kaggle.svg\"></a>"
   ],
   "metadata": {
    "collapsed": false
   },
   "id": "ca07ee4d81dc0978"
  },
  {
   "cell_type": "code",
   "execution_count": 1,
   "id": "41d44622",
   "metadata": {
    "execution": {
     "iopub.execute_input": "2023-08-29T21:53:41.360752Z",
     "iopub.status.busy": "2023-08-29T21:53:41.360322Z",
     "iopub.status.idle": "2023-08-29T21:53:50.9626Z",
     "shell.execute_reply": "2023-08-29T21:53:50.961287Z"
    },
    "papermill": {
     "duration": 9.616366,
     "end_time": "2023-08-29T21:53:50.965001",
     "exception": false,
     "start_time": "2023-08-29T21:53:41.348635",
     "status": "completed"
    },
    "tags": [],
    "ExecuteTime": {
     "end_time": "2023-10-08T16:47:19.348371900Z",
     "start_time": "2023-10-08T16:47:13.236113200Z"
    }
   },
   "outputs": [],
   "source": [
    "import numpy as np\n",
    "import pandas as pd\n",
    "import matplotlib.pyplot as plt\n",
    "import tensorflow as tf"
   ]
  },
  {
   "cell_type": "code",
   "execution_count": 2,
   "id": "d3ec2dba",
   "metadata": {
    "collapsed": false,
    "execution": {
     "iopub.execute_input": "2023-08-29T21:53:50.97998Z",
     "iopub.status.busy": "2023-08-29T21:53:50.979324Z",
     "iopub.status.idle": "2023-08-29T21:53:55.062963Z",
     "shell.execute_reply": "2023-08-29T21:53:55.061711Z"
    },
    "papermill": {
     "duration": 4.094251,
     "end_time": "2023-08-29T21:53:55.065819",
     "exception": false,
     "start_time": "2023-08-29T21:53:50.971568",
     "status": "completed"
    },
    "tags": [],
    "ExecuteTime": {
     "end_time": "2023-10-08T16:47:22.957690600Z",
     "start_time": "2023-10-08T16:47:19.349368500Z"
    }
   },
   "outputs": [],
   "source": [
    "try:\n",
    "    train = pd.read_csv('Data/train.csv')\n",
    "    test = pd.read_csv('Data/test.csv')\n",
    "except:\n",
    "    train = pd.read_csv('/kaggle/input/digit-recognizer/train.csv')\n",
    "    test = pd.read_csv('/kaggle/input/digit-recognizer/test.csv')"
   ]
  },
  {
   "cell_type": "code",
   "execution_count": 3,
   "id": "dbc2f0a7",
   "metadata": {
    "collapsed": false,
    "execution": {
     "iopub.execute_input": "2023-08-29T21:53:55.079849Z",
     "iopub.status.busy": "2023-08-29T21:53:55.079452Z",
     "iopub.status.idle": "2023-08-29T21:53:55.111769Z",
     "shell.execute_reply": "2023-08-29T21:53:55.109496Z"
    },
    "papermill": {
     "duration": 0.04204,
     "end_time": "2023-08-29T21:53:55.114161",
     "exception": false,
     "start_time": "2023-08-29T21:53:55.072121",
     "status": "completed"
    },
    "tags": [],
    "ExecuteTime": {
     "end_time": "2023-10-08T16:47:23.030557800Z",
     "start_time": "2023-10-08T16:47:22.968891100Z"
    }
   },
   "outputs": [
    {
     "data": {
      "text/plain": "       label  pixel0  pixel1  pixel2  pixel3  pixel4  pixel5  pixel6  pixel7  \\\n0          1       0       0       0       0       0       0       0       0   \n1          0       0       0       0       0       0       0       0       0   \n2          1       0       0       0       0       0       0       0       0   \n3          4       0       0       0       0       0       0       0       0   \n4          0       0       0       0       0       0       0       0       0   \n...      ...     ...     ...     ...     ...     ...     ...     ...     ...   \n41995      0       0       0       0       0       0       0       0       0   \n41996      1       0       0       0       0       0       0       0       0   \n41997      7       0       0       0       0       0       0       0       0   \n41998      6       0       0       0       0       0       0       0       0   \n41999      9       0       0       0       0       0       0       0       0   \n\n       pixel8  ...  pixel774  pixel775  pixel776  pixel777  pixel778  \\\n0           0  ...         0         0         0         0         0   \n1           0  ...         0         0         0         0         0   \n2           0  ...         0         0         0         0         0   \n3           0  ...         0         0         0         0         0   \n4           0  ...         0         0         0         0         0   \n...       ...  ...       ...       ...       ...       ...       ...   \n41995       0  ...         0         0         0         0         0   \n41996       0  ...         0         0         0         0         0   \n41997       0  ...         0         0         0         0         0   \n41998       0  ...         0         0         0         0         0   \n41999       0  ...         0         0         0         0         0   \n\n       pixel779  pixel780  pixel781  pixel782  pixel783  \n0             0         0         0         0         0  \n1             0         0         0         0         0  \n2             0         0         0         0         0  \n3             0         0         0         0         0  \n4             0         0         0         0         0  \n...         ...       ...       ...       ...       ...  \n41995         0         0         0         0         0  \n41996         0         0         0         0         0  \n41997         0         0         0         0         0  \n41998         0         0         0         0         0  \n41999         0         0         0         0         0  \n\n[42000 rows x 785 columns]",
      "text/html": "<div>\n<style scoped>\n    .dataframe tbody tr th:only-of-type {\n        vertical-align: middle;\n    }\n\n    .dataframe tbody tr th {\n        vertical-align: top;\n    }\n\n    .dataframe thead th {\n        text-align: right;\n    }\n</style>\n<table border=\"1\" class=\"dataframe\">\n  <thead>\n    <tr style=\"text-align: right;\">\n      <th></th>\n      <th>label</th>\n      <th>pixel0</th>\n      <th>pixel1</th>\n      <th>pixel2</th>\n      <th>pixel3</th>\n      <th>pixel4</th>\n      <th>pixel5</th>\n      <th>pixel6</th>\n      <th>pixel7</th>\n      <th>pixel8</th>\n      <th>...</th>\n      <th>pixel774</th>\n      <th>pixel775</th>\n      <th>pixel776</th>\n      <th>pixel777</th>\n      <th>pixel778</th>\n      <th>pixel779</th>\n      <th>pixel780</th>\n      <th>pixel781</th>\n      <th>pixel782</th>\n      <th>pixel783</th>\n    </tr>\n  </thead>\n  <tbody>\n    <tr>\n      <th>0</th>\n      <td>1</td>\n      <td>0</td>\n      <td>0</td>\n      <td>0</td>\n      <td>0</td>\n      <td>0</td>\n      <td>0</td>\n      <td>0</td>\n      <td>0</td>\n      <td>0</td>\n      <td>...</td>\n      <td>0</td>\n      <td>0</td>\n      <td>0</td>\n      <td>0</td>\n      <td>0</td>\n      <td>0</td>\n      <td>0</td>\n      <td>0</td>\n      <td>0</td>\n      <td>0</td>\n    </tr>\n    <tr>\n      <th>1</th>\n      <td>0</td>\n      <td>0</td>\n      <td>0</td>\n      <td>0</td>\n      <td>0</td>\n      <td>0</td>\n      <td>0</td>\n      <td>0</td>\n      <td>0</td>\n      <td>0</td>\n      <td>...</td>\n      <td>0</td>\n      <td>0</td>\n      <td>0</td>\n      <td>0</td>\n      <td>0</td>\n      <td>0</td>\n      <td>0</td>\n      <td>0</td>\n      <td>0</td>\n      <td>0</td>\n    </tr>\n    <tr>\n      <th>2</th>\n      <td>1</td>\n      <td>0</td>\n      <td>0</td>\n      <td>0</td>\n      <td>0</td>\n      <td>0</td>\n      <td>0</td>\n      <td>0</td>\n      <td>0</td>\n      <td>0</td>\n      <td>...</td>\n      <td>0</td>\n      <td>0</td>\n      <td>0</td>\n      <td>0</td>\n      <td>0</td>\n      <td>0</td>\n      <td>0</td>\n      <td>0</td>\n      <td>0</td>\n      <td>0</td>\n    </tr>\n    <tr>\n      <th>3</th>\n      <td>4</td>\n      <td>0</td>\n      <td>0</td>\n      <td>0</td>\n      <td>0</td>\n      <td>0</td>\n      <td>0</td>\n      <td>0</td>\n      <td>0</td>\n      <td>0</td>\n      <td>...</td>\n      <td>0</td>\n      <td>0</td>\n      <td>0</td>\n      <td>0</td>\n      <td>0</td>\n      <td>0</td>\n      <td>0</td>\n      <td>0</td>\n      <td>0</td>\n      <td>0</td>\n    </tr>\n    <tr>\n      <th>4</th>\n      <td>0</td>\n      <td>0</td>\n      <td>0</td>\n      <td>0</td>\n      <td>0</td>\n      <td>0</td>\n      <td>0</td>\n      <td>0</td>\n      <td>0</td>\n      <td>0</td>\n      <td>...</td>\n      <td>0</td>\n      <td>0</td>\n      <td>0</td>\n      <td>0</td>\n      <td>0</td>\n      <td>0</td>\n      <td>0</td>\n      <td>0</td>\n      <td>0</td>\n      <td>0</td>\n    </tr>\n    <tr>\n      <th>...</th>\n      <td>...</td>\n      <td>...</td>\n      <td>...</td>\n      <td>...</td>\n      <td>...</td>\n      <td>...</td>\n      <td>...</td>\n      <td>...</td>\n      <td>...</td>\n      <td>...</td>\n      <td>...</td>\n      <td>...</td>\n      <td>...</td>\n      <td>...</td>\n      <td>...</td>\n      <td>...</td>\n      <td>...</td>\n      <td>...</td>\n      <td>...</td>\n      <td>...</td>\n      <td>...</td>\n    </tr>\n    <tr>\n      <th>41995</th>\n      <td>0</td>\n      <td>0</td>\n      <td>0</td>\n      <td>0</td>\n      <td>0</td>\n      <td>0</td>\n      <td>0</td>\n      <td>0</td>\n      <td>0</td>\n      <td>0</td>\n      <td>...</td>\n      <td>0</td>\n      <td>0</td>\n      <td>0</td>\n      <td>0</td>\n      <td>0</td>\n      <td>0</td>\n      <td>0</td>\n      <td>0</td>\n      <td>0</td>\n      <td>0</td>\n    </tr>\n    <tr>\n      <th>41996</th>\n      <td>1</td>\n      <td>0</td>\n      <td>0</td>\n      <td>0</td>\n      <td>0</td>\n      <td>0</td>\n      <td>0</td>\n      <td>0</td>\n      <td>0</td>\n      <td>0</td>\n      <td>...</td>\n      <td>0</td>\n      <td>0</td>\n      <td>0</td>\n      <td>0</td>\n      <td>0</td>\n      <td>0</td>\n      <td>0</td>\n      <td>0</td>\n      <td>0</td>\n      <td>0</td>\n    </tr>\n    <tr>\n      <th>41997</th>\n      <td>7</td>\n      <td>0</td>\n      <td>0</td>\n      <td>0</td>\n      <td>0</td>\n      <td>0</td>\n      <td>0</td>\n      <td>0</td>\n      <td>0</td>\n      <td>0</td>\n      <td>...</td>\n      <td>0</td>\n      <td>0</td>\n      <td>0</td>\n      <td>0</td>\n      <td>0</td>\n      <td>0</td>\n      <td>0</td>\n      <td>0</td>\n      <td>0</td>\n      <td>0</td>\n    </tr>\n    <tr>\n      <th>41998</th>\n      <td>6</td>\n      <td>0</td>\n      <td>0</td>\n      <td>0</td>\n      <td>0</td>\n      <td>0</td>\n      <td>0</td>\n      <td>0</td>\n      <td>0</td>\n      <td>0</td>\n      <td>...</td>\n      <td>0</td>\n      <td>0</td>\n      <td>0</td>\n      <td>0</td>\n      <td>0</td>\n      <td>0</td>\n      <td>0</td>\n      <td>0</td>\n      <td>0</td>\n      <td>0</td>\n    </tr>\n    <tr>\n      <th>41999</th>\n      <td>9</td>\n      <td>0</td>\n      <td>0</td>\n      <td>0</td>\n      <td>0</td>\n      <td>0</td>\n      <td>0</td>\n      <td>0</td>\n      <td>0</td>\n      <td>0</td>\n      <td>...</td>\n      <td>0</td>\n      <td>0</td>\n      <td>0</td>\n      <td>0</td>\n      <td>0</td>\n      <td>0</td>\n      <td>0</td>\n      <td>0</td>\n      <td>0</td>\n      <td>0</td>\n    </tr>\n  </tbody>\n</table>\n<p>42000 rows × 785 columns</p>\n</div>"
     },
     "execution_count": 3,
     "metadata": {},
     "output_type": "execute_result"
    }
   ],
   "source": [
    "train"
   ]
  },
  {
   "cell_type": "code",
   "execution_count": 4,
   "id": "8301a217",
   "metadata": {
    "collapsed": false,
    "execution": {
     "iopub.execute_input": "2023-08-29T21:53:55.129177Z",
     "iopub.status.busy": "2023-08-29T21:53:55.128779Z",
     "iopub.status.idle": "2023-08-29T21:53:55.168317Z",
     "shell.execute_reply": "2023-08-29T21:53:55.167004Z"
    },
    "papermill": {
     "duration": 0.049809,
     "end_time": "2023-08-29T21:53:55.170639",
     "exception": false,
     "start_time": "2023-08-29T21:53:55.12083",
     "status": "completed"
    },
    "tags": [],
    "ExecuteTime": {
     "end_time": "2023-10-08T16:47:23.142576100Z",
     "start_time": "2023-10-08T16:47:23.004097Z"
    }
   },
   "outputs": [
    {
     "data": {
      "text/plain": "array([[0, 0, 0, ..., 0, 0, 0],\n       [0, 0, 0, ..., 0, 0, 0],\n       [0, 0, 0, ..., 0, 0, 0],\n       ...,\n       [0, 0, 0, ..., 0, 0, 0],\n       [0, 0, 0, ..., 0, 0, 0],\n       [0, 0, 0, ..., 0, 0, 0]], dtype=int64)"
     },
     "execution_count": 4,
     "metadata": {},
     "output_type": "execute_result"
    }
   ],
   "source": [
    "test = np.array(test)\n",
    "test"
   ]
  },
  {
   "cell_type": "code",
   "execution_count": 5,
   "id": "4e58552d",
   "metadata": {
    "collapsed": false,
    "execution": {
     "iopub.execute_input": "2023-08-29T21:53:55.186236Z",
     "iopub.status.busy": "2023-08-29T21:53:55.185849Z",
     "iopub.status.idle": "2023-08-29T21:53:55.234364Z",
     "shell.execute_reply": "2023-08-29T21:53:55.233274Z"
    },
    "papermill": {
     "duration": 0.058603,
     "end_time": "2023-08-29T21:53:55.236198",
     "exception": false,
     "start_time": "2023-08-29T21:53:55.177595",
     "status": "completed"
    },
    "tags": [],
    "ExecuteTime": {
     "end_time": "2023-10-08T16:47:23.577940500Z",
     "start_time": "2023-10-08T16:47:23.211734200Z"
    }
   },
   "outputs": [],
   "source": [
    "y = train['label']\n",
    "X = train.drop('label', axis=1)"
   ]
  },
  {
   "cell_type": "code",
   "execution_count": 6,
   "id": "7912a256",
   "metadata": {
    "collapsed": false,
    "execution": {
     "iopub.execute_input": "2023-08-29T21:53:55.251161Z",
     "iopub.status.busy": "2023-08-29T21:53:55.250749Z",
     "iopub.status.idle": "2023-08-29T21:53:55.270651Z",
     "shell.execute_reply": "2023-08-29T21:53:55.269257Z"
    },
    "papermill": {
     "duration": 0.030324,
     "end_time": "2023-08-29T21:53:55.273242",
     "exception": false,
     "start_time": "2023-08-29T21:53:55.242918",
     "status": "completed"
    },
    "tags": [],
    "ExecuteTime": {
     "end_time": "2023-10-08T16:47:23.579939Z",
     "start_time": "2023-10-08T16:47:23.216741400Z"
    }
   },
   "outputs": [
    {
     "data": {
      "text/plain": "       pixel0  pixel1  pixel2  pixel3  pixel4  pixel5  pixel6  pixel7  pixel8  \\\n0           0       0       0       0       0       0       0       0       0   \n1           0       0       0       0       0       0       0       0       0   \n2           0       0       0       0       0       0       0       0       0   \n3           0       0       0       0       0       0       0       0       0   \n4           0       0       0       0       0       0       0       0       0   \n...       ...     ...     ...     ...     ...     ...     ...     ...     ...   \n41995       0       0       0       0       0       0       0       0       0   \n41996       0       0       0       0       0       0       0       0       0   \n41997       0       0       0       0       0       0       0       0       0   \n41998       0       0       0       0       0       0       0       0       0   \n41999       0       0       0       0       0       0       0       0       0   \n\n       pixel9  ...  pixel774  pixel775  pixel776  pixel777  pixel778  \\\n0           0  ...         0         0         0         0         0   \n1           0  ...         0         0         0         0         0   \n2           0  ...         0         0         0         0         0   \n3           0  ...         0         0         0         0         0   \n4           0  ...         0         0         0         0         0   \n...       ...  ...       ...       ...       ...       ...       ...   \n41995       0  ...         0         0         0         0         0   \n41996       0  ...         0         0         0         0         0   \n41997       0  ...         0         0         0         0         0   \n41998       0  ...         0         0         0         0         0   \n41999       0  ...         0         0         0         0         0   \n\n       pixel779  pixel780  pixel781  pixel782  pixel783  \n0             0         0         0         0         0  \n1             0         0         0         0         0  \n2             0         0         0         0         0  \n3             0         0         0         0         0  \n4             0         0         0         0         0  \n...         ...       ...       ...       ...       ...  \n41995         0         0         0         0         0  \n41996         0         0         0         0         0  \n41997         0         0         0         0         0  \n41998         0         0         0         0         0  \n41999         0         0         0         0         0  \n\n[42000 rows x 784 columns]",
      "text/html": "<div>\n<style scoped>\n    .dataframe tbody tr th:only-of-type {\n        vertical-align: middle;\n    }\n\n    .dataframe tbody tr th {\n        vertical-align: top;\n    }\n\n    .dataframe thead th {\n        text-align: right;\n    }\n</style>\n<table border=\"1\" class=\"dataframe\">\n  <thead>\n    <tr style=\"text-align: right;\">\n      <th></th>\n      <th>pixel0</th>\n      <th>pixel1</th>\n      <th>pixel2</th>\n      <th>pixel3</th>\n      <th>pixel4</th>\n      <th>pixel5</th>\n      <th>pixel6</th>\n      <th>pixel7</th>\n      <th>pixel8</th>\n      <th>pixel9</th>\n      <th>...</th>\n      <th>pixel774</th>\n      <th>pixel775</th>\n      <th>pixel776</th>\n      <th>pixel777</th>\n      <th>pixel778</th>\n      <th>pixel779</th>\n      <th>pixel780</th>\n      <th>pixel781</th>\n      <th>pixel782</th>\n      <th>pixel783</th>\n    </tr>\n  </thead>\n  <tbody>\n    <tr>\n      <th>0</th>\n      <td>0</td>\n      <td>0</td>\n      <td>0</td>\n      <td>0</td>\n      <td>0</td>\n      <td>0</td>\n      <td>0</td>\n      <td>0</td>\n      <td>0</td>\n      <td>0</td>\n      <td>...</td>\n      <td>0</td>\n      <td>0</td>\n      <td>0</td>\n      <td>0</td>\n      <td>0</td>\n      <td>0</td>\n      <td>0</td>\n      <td>0</td>\n      <td>0</td>\n      <td>0</td>\n    </tr>\n    <tr>\n      <th>1</th>\n      <td>0</td>\n      <td>0</td>\n      <td>0</td>\n      <td>0</td>\n      <td>0</td>\n      <td>0</td>\n      <td>0</td>\n      <td>0</td>\n      <td>0</td>\n      <td>0</td>\n      <td>...</td>\n      <td>0</td>\n      <td>0</td>\n      <td>0</td>\n      <td>0</td>\n      <td>0</td>\n      <td>0</td>\n      <td>0</td>\n      <td>0</td>\n      <td>0</td>\n      <td>0</td>\n    </tr>\n    <tr>\n      <th>2</th>\n      <td>0</td>\n      <td>0</td>\n      <td>0</td>\n      <td>0</td>\n      <td>0</td>\n      <td>0</td>\n      <td>0</td>\n      <td>0</td>\n      <td>0</td>\n      <td>0</td>\n      <td>...</td>\n      <td>0</td>\n      <td>0</td>\n      <td>0</td>\n      <td>0</td>\n      <td>0</td>\n      <td>0</td>\n      <td>0</td>\n      <td>0</td>\n      <td>0</td>\n      <td>0</td>\n    </tr>\n    <tr>\n      <th>3</th>\n      <td>0</td>\n      <td>0</td>\n      <td>0</td>\n      <td>0</td>\n      <td>0</td>\n      <td>0</td>\n      <td>0</td>\n      <td>0</td>\n      <td>0</td>\n      <td>0</td>\n      <td>...</td>\n      <td>0</td>\n      <td>0</td>\n      <td>0</td>\n      <td>0</td>\n      <td>0</td>\n      <td>0</td>\n      <td>0</td>\n      <td>0</td>\n      <td>0</td>\n      <td>0</td>\n    </tr>\n    <tr>\n      <th>4</th>\n      <td>0</td>\n      <td>0</td>\n      <td>0</td>\n      <td>0</td>\n      <td>0</td>\n      <td>0</td>\n      <td>0</td>\n      <td>0</td>\n      <td>0</td>\n      <td>0</td>\n      <td>...</td>\n      <td>0</td>\n      <td>0</td>\n      <td>0</td>\n      <td>0</td>\n      <td>0</td>\n      <td>0</td>\n      <td>0</td>\n      <td>0</td>\n      <td>0</td>\n      <td>0</td>\n    </tr>\n    <tr>\n      <th>...</th>\n      <td>...</td>\n      <td>...</td>\n      <td>...</td>\n      <td>...</td>\n      <td>...</td>\n      <td>...</td>\n      <td>...</td>\n      <td>...</td>\n      <td>...</td>\n      <td>...</td>\n      <td>...</td>\n      <td>...</td>\n      <td>...</td>\n      <td>...</td>\n      <td>...</td>\n      <td>...</td>\n      <td>...</td>\n      <td>...</td>\n      <td>...</td>\n      <td>...</td>\n      <td>...</td>\n    </tr>\n    <tr>\n      <th>41995</th>\n      <td>0</td>\n      <td>0</td>\n      <td>0</td>\n      <td>0</td>\n      <td>0</td>\n      <td>0</td>\n      <td>0</td>\n      <td>0</td>\n      <td>0</td>\n      <td>0</td>\n      <td>...</td>\n      <td>0</td>\n      <td>0</td>\n      <td>0</td>\n      <td>0</td>\n      <td>0</td>\n      <td>0</td>\n      <td>0</td>\n      <td>0</td>\n      <td>0</td>\n      <td>0</td>\n    </tr>\n    <tr>\n      <th>41996</th>\n      <td>0</td>\n      <td>0</td>\n      <td>0</td>\n      <td>0</td>\n      <td>0</td>\n      <td>0</td>\n      <td>0</td>\n      <td>0</td>\n      <td>0</td>\n      <td>0</td>\n      <td>...</td>\n      <td>0</td>\n      <td>0</td>\n      <td>0</td>\n      <td>0</td>\n      <td>0</td>\n      <td>0</td>\n      <td>0</td>\n      <td>0</td>\n      <td>0</td>\n      <td>0</td>\n    </tr>\n    <tr>\n      <th>41997</th>\n      <td>0</td>\n      <td>0</td>\n      <td>0</td>\n      <td>0</td>\n      <td>0</td>\n      <td>0</td>\n      <td>0</td>\n      <td>0</td>\n      <td>0</td>\n      <td>0</td>\n      <td>...</td>\n      <td>0</td>\n      <td>0</td>\n      <td>0</td>\n      <td>0</td>\n      <td>0</td>\n      <td>0</td>\n      <td>0</td>\n      <td>0</td>\n      <td>0</td>\n      <td>0</td>\n    </tr>\n    <tr>\n      <th>41998</th>\n      <td>0</td>\n      <td>0</td>\n      <td>0</td>\n      <td>0</td>\n      <td>0</td>\n      <td>0</td>\n      <td>0</td>\n      <td>0</td>\n      <td>0</td>\n      <td>0</td>\n      <td>...</td>\n      <td>0</td>\n      <td>0</td>\n      <td>0</td>\n      <td>0</td>\n      <td>0</td>\n      <td>0</td>\n      <td>0</td>\n      <td>0</td>\n      <td>0</td>\n      <td>0</td>\n    </tr>\n    <tr>\n      <th>41999</th>\n      <td>0</td>\n      <td>0</td>\n      <td>0</td>\n      <td>0</td>\n      <td>0</td>\n      <td>0</td>\n      <td>0</td>\n      <td>0</td>\n      <td>0</td>\n      <td>0</td>\n      <td>...</td>\n      <td>0</td>\n      <td>0</td>\n      <td>0</td>\n      <td>0</td>\n      <td>0</td>\n      <td>0</td>\n      <td>0</td>\n      <td>0</td>\n      <td>0</td>\n      <td>0</td>\n    </tr>\n  </tbody>\n</table>\n<p>42000 rows × 784 columns</p>\n</div>"
     },
     "execution_count": 6,
     "metadata": {},
     "output_type": "execute_result"
    }
   ],
   "source": [
    "X"
   ]
  },
  {
   "cell_type": "code",
   "execution_count": 7,
   "id": "16886988",
   "metadata": {
    "collapsed": false,
    "execution": {
     "iopub.execute_input": "2023-08-29T21:53:55.289146Z",
     "iopub.status.busy": "2023-08-29T21:53:55.288758Z",
     "iopub.status.idle": "2023-08-29T21:53:55.295816Z",
     "shell.execute_reply": "2023-08-29T21:53:55.295063Z"
    },
    "papermill": {
     "duration": 0.01746,
     "end_time": "2023-08-29T21:53:55.297856",
     "exception": false,
     "start_time": "2023-08-29T21:53:55.280396",
     "status": "completed"
    },
    "tags": [],
    "ExecuteTime": {
     "end_time": "2023-10-08T16:47:23.580939400Z",
     "start_time": "2023-10-08T16:47:23.244902100Z"
    }
   },
   "outputs": [
    {
     "data": {
      "text/plain": "0        1\n1        0\n2        1\n3        4\n4        0\n        ..\n41995    0\n41996    1\n41997    7\n41998    6\n41999    9\nName: label, Length: 42000, dtype: int64"
     },
     "execution_count": 7,
     "metadata": {},
     "output_type": "execute_result"
    }
   ],
   "source": [
    "y"
   ]
  },
  {
   "cell_type": "code",
   "execution_count": 8,
   "id": "5bc7ba19",
   "metadata": {
    "collapsed": false,
    "execution": {
     "iopub.execute_input": "2023-08-29T21:53:55.315365Z",
     "iopub.status.busy": "2023-08-29T21:53:55.313835Z",
     "iopub.status.idle": "2023-08-29T21:53:55.404864Z",
     "shell.execute_reply": "2023-08-29T21:53:55.403332Z"
    },
    "papermill": {
     "duration": 0.102016,
     "end_time": "2023-08-29T21:53:55.407388",
     "exception": false,
     "start_time": "2023-08-29T21:53:55.305372",
     "status": "completed"
    },
    "tags": [],
    "ExecuteTime": {
     "end_time": "2023-10-08T16:47:23.581939Z",
     "start_time": "2023-10-08T16:47:23.254218900Z"
    }
   },
   "outputs": [],
   "source": [
    "X = X/255\n",
    "test = test/255"
   ]
  },
  {
   "cell_type": "code",
   "execution_count": 9,
   "id": "a0160b76",
   "metadata": {
    "collapsed": false,
    "execution": {
     "iopub.execute_input": "2023-08-29T21:53:55.424339Z",
     "iopub.status.busy": "2023-08-29T21:53:55.423956Z",
     "iopub.status.idle": "2023-08-29T21:53:55.537721Z",
     "shell.execute_reply": "2023-08-29T21:53:55.536726Z"
    },
    "papermill": {
     "duration": 0.125239,
     "end_time": "2023-08-29T21:53:55.539962",
     "exception": false,
     "start_time": "2023-08-29T21:53:55.414723",
     "status": "completed"
    },
    "tags": [],
    "ExecuteTime": {
     "end_time": "2023-10-08T16:47:23.717924500Z",
     "start_time": "2023-10-08T16:47:23.433396300Z"
    }
   },
   "outputs": [],
   "source": [
    "model = tf.keras.models.Sequential(\n",
    "    [\n",
    "        tf.keras.layers.Dense(128, activation='relu'),\n",
    "        tf.keras.layers.Dense(10, activation='softmax')\n",
    "    ]\n",
    ")"
   ]
  },
  {
   "cell_type": "code",
   "execution_count": 10,
   "id": "585e663a",
   "metadata": {
    "collapsed": false,
    "execution": {
     "iopub.execute_input": "2023-08-29T21:53:55.556796Z",
     "iopub.status.busy": "2023-08-29T21:53:55.556082Z",
     "iopub.status.idle": "2023-08-29T21:53:55.583492Z",
     "shell.execute_reply": "2023-08-29T21:53:55.582197Z"
    },
    "papermill": {
     "duration": 0.038077,
     "end_time": "2023-08-29T21:53:55.585894",
     "exception": false,
     "start_time": "2023-08-29T21:53:55.547817",
     "status": "completed"
    },
    "tags": [],
    "ExecuteTime": {
     "end_time": "2023-10-08T16:47:23.752928300Z",
     "start_time": "2023-10-08T16:47:23.650280900Z"
    }
   },
   "outputs": [],
   "source": [
    "model.compile(\n",
    "    optimizer='adam',\n",
    "    loss='sparse_categorical_crossentropy',\n",
    "    metrics=['accuracy']\n",
    ")"
   ]
  },
  {
   "cell_type": "code",
   "execution_count": 11,
   "id": "476b0f2a",
   "metadata": {
    "collapsed": false,
    "execution": {
     "iopub.execute_input": "2023-08-29T21:53:55.602203Z",
     "iopub.status.busy": "2023-08-29T21:53:55.601808Z",
     "iopub.status.idle": "2023-08-29T21:56:42.321702Z",
     "shell.execute_reply": "2023-08-29T21:56:42.320644Z"
    },
    "papermill": {
     "duration": 166.730624,
     "end_time": "2023-08-29T21:56:42.323951",
     "exception": false,
     "start_time": "2023-08-29T21:53:55.593327",
     "status": "completed"
    },
    "tags": [],
    "ExecuteTime": {
     "end_time": "2023-10-08T16:49:43.160993700Z",
     "start_time": "2023-10-08T16:47:23.683407100Z"
    }
   },
   "outputs": [
    {
     "name": "stdout",
     "output_type": "stream",
     "text": [
      "Epoch 1/40\n",
      "1050/1050 [==============================] - 4s 3ms/step - loss: 0.3269 - accuracy: 0.9082 - val_loss: 0.1850 - val_accuracy: 0.9455\n",
      "Epoch 2/40\n",
      "1050/1050 [==============================] - 3s 3ms/step - loss: 0.1506 - accuracy: 0.9566 - val_loss: 0.1495 - val_accuracy: 0.9535\n",
      "Epoch 3/40\n",
      "1050/1050 [==============================] - 3s 3ms/step - loss: 0.1034 - accuracy: 0.9702 - val_loss: 0.1197 - val_accuracy: 0.9642\n",
      "Epoch 4/40\n",
      "1050/1050 [==============================] - 3s 3ms/step - loss: 0.0775 - accuracy: 0.9762 - val_loss: 0.1038 - val_accuracy: 0.9687\n",
      "Epoch 5/40\n",
      "1050/1050 [==============================] - 4s 3ms/step - loss: 0.0585 - accuracy: 0.9826 - val_loss: 0.0982 - val_accuracy: 0.9702\n",
      "Epoch 6/40\n",
      "1050/1050 [==============================] - 4s 3ms/step - loss: 0.0461 - accuracy: 0.9859 - val_loss: 0.0952 - val_accuracy: 0.9708\n",
      "Epoch 7/40\n",
      "1050/1050 [==============================] - 3s 3ms/step - loss: 0.0350 - accuracy: 0.9897 - val_loss: 0.0989 - val_accuracy: 0.9723\n",
      "Epoch 8/40\n",
      "1050/1050 [==============================] - 3s 3ms/step - loss: 0.0285 - accuracy: 0.9920 - val_loss: 0.0991 - val_accuracy: 0.9714\n",
      "Epoch 9/40\n",
      "1050/1050 [==============================] - 4s 3ms/step - loss: 0.0223 - accuracy: 0.9937 - val_loss: 0.1001 - val_accuracy: 0.9724\n",
      "Epoch 10/40\n",
      "1050/1050 [==============================] - 5s 5ms/step - loss: 0.0186 - accuracy: 0.9949 - val_loss: 0.1032 - val_accuracy: 0.9713\n",
      "Epoch 11/40\n",
      "1050/1050 [==============================] - 7s 6ms/step - loss: 0.0132 - accuracy: 0.9967 - val_loss: 0.1090 - val_accuracy: 0.9717\n",
      "Epoch 12/40\n",
      "1050/1050 [==============================] - 5s 5ms/step - loss: 0.0130 - accuracy: 0.9963 - val_loss: 0.1011 - val_accuracy: 0.9742\n",
      "Epoch 13/40\n",
      "1050/1050 [==============================] - 3s 3ms/step - loss: 0.0116 - accuracy: 0.9966 - val_loss: 0.1150 - val_accuracy: 0.9713\n",
      "Epoch 14/40\n",
      "1050/1050 [==============================] - 3s 3ms/step - loss: 0.0103 - accuracy: 0.9972 - val_loss: 0.1078 - val_accuracy: 0.9744\n",
      "Epoch 15/40\n",
      "1050/1050 [==============================] - 3s 3ms/step - loss: 0.0071 - accuracy: 0.9983 - val_loss: 0.1100 - val_accuracy: 0.9742\n",
      "Epoch 16/40\n",
      "1050/1050 [==============================] - 3s 3ms/step - loss: 0.0067 - accuracy: 0.9982 - val_loss: 0.1192 - val_accuracy: 0.9721\n",
      "Epoch 17/40\n",
      "1050/1050 [==============================] - 3s 3ms/step - loss: 0.0051 - accuracy: 0.9986 - val_loss: 0.1197 - val_accuracy: 0.9744\n",
      "Epoch 18/40\n",
      "1050/1050 [==============================] - 3s 3ms/step - loss: 0.0084 - accuracy: 0.9976 - val_loss: 0.1277 - val_accuracy: 0.9732\n",
      "Epoch 19/40\n",
      "1050/1050 [==============================] - 3s 3ms/step - loss: 0.0073 - accuracy: 0.9977 - val_loss: 0.1234 - val_accuracy: 0.9737\n",
      "Epoch 20/40\n",
      "1050/1050 [==============================] - 3s 3ms/step - loss: 0.0023 - accuracy: 0.9996 - val_loss: 0.1254 - val_accuracy: 0.9726\n",
      "Epoch 21/40\n",
      "1050/1050 [==============================] - 3s 3ms/step - loss: 0.0013 - accuracy: 0.9999 - val_loss: 0.1371 - val_accuracy: 0.9710\n",
      "Epoch 22/40\n",
      "1050/1050 [==============================] - 3s 3ms/step - loss: 0.0087 - accuracy: 0.9973 - val_loss: 0.1229 - val_accuracy: 0.9762\n",
      "Epoch 23/40\n",
      "1050/1050 [==============================] - 3s 3ms/step - loss: 0.0062 - accuracy: 0.9981 - val_loss: 0.1401 - val_accuracy: 0.9735\n",
      "Epoch 24/40\n",
      "1050/1050 [==============================] - 3s 3ms/step - loss: 0.0048 - accuracy: 0.9986 - val_loss: 0.1359 - val_accuracy: 0.9757\n",
      "Epoch 25/40\n",
      "1050/1050 [==============================] - 3s 3ms/step - loss: 0.0012 - accuracy: 0.9999 - val_loss: 0.1276 - val_accuracy: 0.9774\n",
      "Epoch 26/40\n",
      "1050/1050 [==============================] - 3s 3ms/step - loss: 5.3427e-04 - accuracy: 0.9999 - val_loss: 0.1313 - val_accuracy: 0.9765\n",
      "Epoch 27/40\n",
      "1050/1050 [==============================] - 3s 3ms/step - loss: 0.0091 - accuracy: 0.9972 - val_loss: 0.1657 - val_accuracy: 0.9725\n",
      "Epoch 28/40\n",
      "1050/1050 [==============================] - 3s 3ms/step - loss: 0.0046 - accuracy: 0.9985 - val_loss: 0.1558 - val_accuracy: 0.9723\n",
      "Epoch 29/40\n",
      "1050/1050 [==============================] - 3s 3ms/step - loss: 0.0025 - accuracy: 0.9993 - val_loss: 0.1511 - val_accuracy: 0.9718\n",
      "Epoch 30/40\n",
      "1050/1050 [==============================] - 3s 3ms/step - loss: 0.0049 - accuracy: 0.9984 - val_loss: 0.1380 - val_accuracy: 0.9736\n",
      "Epoch 31/40\n",
      "1050/1050 [==============================] - 3s 3ms/step - loss: 0.0040 - accuracy: 0.9987 - val_loss: 0.1481 - val_accuracy: 0.9750\n",
      "Epoch 32/40\n",
      "1050/1050 [==============================] - 3s 3ms/step - loss: 0.0017 - accuracy: 0.9995 - val_loss: 0.1460 - val_accuracy: 0.9767\n",
      "Epoch 33/40\n",
      "1050/1050 [==============================] - 3s 3ms/step - loss: 1.8634e-04 - accuracy: 1.0000 - val_loss: 0.1431 - val_accuracy: 0.9770\n",
      "Epoch 34/40\n",
      "1050/1050 [==============================] - 3s 3ms/step - loss: 1.0518e-04 - accuracy: 1.0000 - val_loss: 0.1441 - val_accuracy: 0.9775\n",
      "Epoch 35/40\n",
      "1050/1050 [==============================] - 3s 3ms/step - loss: 7.5592e-05 - accuracy: 1.0000 - val_loss: 0.1446 - val_accuracy: 0.9765\n",
      "Epoch 36/40\n",
      "1050/1050 [==============================] - 3s 3ms/step - loss: 0.0123 - accuracy: 0.9962 - val_loss: 0.1576 - val_accuracy: 0.9731\n",
      "Epoch 37/40\n",
      "1050/1050 [==============================] - 3s 3ms/step - loss: 0.0019 - accuracy: 0.9995 - val_loss: 0.1576 - val_accuracy: 0.9733\n",
      "Epoch 38/40\n",
      "1050/1050 [==============================] - 3s 3ms/step - loss: 6.8794e-04 - accuracy: 0.9999 - val_loss: 0.1691 - val_accuracy: 0.9735\n",
      "Epoch 39/40\n",
      "1050/1050 [==============================] - 3s 3ms/step - loss: 0.0079 - accuracy: 0.9971 - val_loss: 0.1680 - val_accuracy: 0.9713\n",
      "Epoch 40/40\n",
      "1050/1050 [==============================] - 3s 3ms/step - loss: 0.0019 - accuracy: 0.9995 - val_loss: 0.1594 - val_accuracy: 0.9750\n"
     ]
    }
   ],
   "source": [
    "h = model.fit(\n",
    "    X, \n",
    "    y, \n",
    "    epochs=40,\n",
    "    validation_split=0.2\n",
    ")"
   ]
  },
  {
   "cell_type": "code",
   "execution_count": 12,
   "id": "ae196383",
   "metadata": {
    "collapsed": false,
    "execution": {
     "iopub.execute_input": "2023-08-29T21:56:42.666175Z",
     "iopub.status.busy": "2023-08-29T21:56:42.665753Z",
     "iopub.status.idle": "2023-08-29T21:56:44.946974Z",
     "shell.execute_reply": "2023-08-29T21:56:44.945659Z"
    },
    "papermill": {
     "duration": 2.457951,
     "end_time": "2023-08-29T21:56:44.94967",
     "exception": false,
     "start_time": "2023-08-29T21:56:42.491719",
     "status": "completed"
    },
    "tags": [],
    "ExecuteTime": {
     "end_time": "2023-10-08T16:49:45.328508Z",
     "start_time": "2023-10-08T16:49:43.154997400Z"
    }
   },
   "outputs": [
    {
     "name": "stdout",
     "output_type": "stream",
     "text": [
      "875/875 [==============================] - 2s 2ms/step\n"
     ]
    }
   ],
   "source": [
    "y_pred = model.predict(test)"
   ]
  },
  {
   "cell_type": "code",
   "execution_count": 13,
   "id": "c17d92e6",
   "metadata": {
    "collapsed": false,
    "execution": {
     "iopub.execute_input": "2023-08-29T21:56:45.364997Z",
     "iopub.status.busy": "2023-08-29T21:56:45.364596Z",
     "iopub.status.idle": "2023-08-29T21:56:45.373064Z",
     "shell.execute_reply": "2023-08-29T21:56:45.372235Z"
    },
    "papermill": {
     "duration": 0.252903,
     "end_time": "2023-08-29T21:56:45.37503",
     "exception": false,
     "start_time": "2023-08-29T21:56:45.122127",
     "status": "completed"
    },
    "tags": [],
    "ExecuteTime": {
     "end_time": "2023-10-08T16:49:45.345495400Z",
     "start_time": "2023-10-08T16:49:45.330505900Z"
    }
   },
   "outputs": [
    {
     "data": {
      "text/plain": "array([2, 0, 9, ..., 3, 9, 2], dtype=int64)"
     },
     "execution_count": 13,
     "metadata": {},
     "output_type": "execute_result"
    }
   ],
   "source": [
    "y_pred = np.argmax(y_pred, axis=1)\n",
    "y_pred"
   ]
  },
  {
   "cell_type": "code",
   "execution_count": 14,
   "id": "f29ba877",
   "metadata": {
    "collapsed": false,
    "execution": {
     "iopub.execute_input": "2023-08-29T21:56:45.730438Z",
     "iopub.status.busy": "2023-08-29T21:56:45.730044Z",
     "iopub.status.idle": "2023-08-29T21:56:47.982728Z",
     "shell.execute_reply": "2023-08-29T21:56:47.981157Z"
    },
    "papermill": {
     "duration": 2.435195,
     "end_time": "2023-08-29T21:56:47.98547",
     "exception": false,
     "start_time": "2023-08-29T21:56:45.550275",
     "status": "completed"
    },
    "tags": [],
    "ExecuteTime": {
     "end_time": "2023-10-08T16:49:47.304042300Z",
     "start_time": "2023-10-08T16:49:45.343496200Z"
    }
   },
   "outputs": [
    {
     "name": "stdout",
     "output_type": "stream",
     "text": [
      "875/875 [==============================] - 2s 2ms/step - loss: 0.0087 - accuracy: 1.0000\n"
     ]
    },
    {
     "data": {
      "text/plain": "[0.008722232654690742, 1.0]"
     },
     "execution_count": 14,
     "metadata": {},
     "output_type": "execute_result"
    }
   ],
   "source": [
    "model.evaluate(test, y_pred)"
   ]
  },
  {
   "cell_type": "code",
   "execution_count": 15,
   "id": "489dedf9",
   "metadata": {
    "collapsed": false,
    "execution": {
     "iopub.execute_input": "2023-08-29T21:56:48.340542Z",
     "iopub.status.busy": "2023-08-29T21:56:48.339482Z",
     "iopub.status.idle": "2023-08-29T21:56:48.613705Z",
     "shell.execute_reply": "2023-08-29T21:56:48.612445Z"
    },
    "papermill": {
     "duration": 0.454377,
     "end_time": "2023-08-29T21:56:48.616028",
     "exception": false,
     "start_time": "2023-08-29T21:56:48.161651",
     "status": "completed"
    },
    "tags": [],
    "ExecuteTime": {
     "end_time": "2023-10-08T16:49:47.634353100Z",
     "start_time": "2023-10-08T16:49:47.291522Z"
    }
   },
   "outputs": [
    {
     "data": {
      "text/plain": "<Figure size 1000x1000 with 1 Axes>",
      "image/png": "[encoded data removed]"
     },
     "metadata": {},
     "output_type": "display_data"
    }
   ],
   "source": [
    "plt.figure(figsize=(10, 10))\n",
    "plt.plot(h.history['loss'])\n",
    "plt.plot(h.history['val_accuracy'])\n",
    "plt.plot(h.history['accuracy'])\n",
    "plt.legend(['loss', 'val_accuracy', 'accuracy'])\n",
    "plt.show()"
   ]
  },
  {
   "cell_type": "code",
   "execution_count": 16,
   "id": "bfd1acda",
   "metadata": {
    "collapsed": false,
    "execution": {
     "iopub.execute_input": "2023-08-29T21:56:48.972401Z",
     "iopub.status.busy": "2023-08-29T21:56:48.971989Z",
     "iopub.status.idle": "2023-08-29T21:56:49.009729Z",
     "shell.execute_reply": "2023-08-29T21:56:49.008341Z"
    },
    "papermill": {
     "duration": 0.220421,
     "end_time": "2023-08-29T21:56:49.012081",
     "exception": false,
     "start_time": "2023-08-29T21:56:48.79166",
     "status": "completed"
    },
    "tags": [],
    "ExecuteTime": {
     "end_time": "2023-10-08T16:49:47.828057600Z",
     "start_time": "2023-10-08T16:49:47.636356700Z"
    }
   },
   "outputs": [],
   "source": [
    "submission = pd.DataFrame(\n",
    "    {\n",
    "        'ImageId': range(1, len(y_pred) + 1),\n",
    "        'Label': y_pred\n",
    "    }\n",
    ")\n",
    "submission.to_csv('submission.csv', index=False)"
   ]
  },
  {
   "cell_type": "code",
   "execution_count": 19,
   "outputs": [],
   "source": [
    "model.save('Model/model.keras')"
   ],
   "metadata": {
    "collapsed": false,
    "ExecuteTime": {
     "end_time": "2023-10-08T16:54:32.429305900Z",
     "start_time": "2023-10-08T16:54:32.373902600Z"
    }
   },
   "id": "53a94f3ad1189772"
  }
 ],
 "kernelspec": {
  "display_name": "Python 3",
  "language": "python",
  "name": "python3"
 },
 "language_info": {
  "codemirror_mode": {
   "name": "ipython",
   "version": 3
  },
  "file_extension": ".py",
  "mimetype": "text/x-python",
  "name": "python",
  "nbconvert_exporter": "python",
  "pygments_lexer": "ipython3",
  "version": "3.6.4"
 },
 "metadata": {
  "kernelspec": {
   "display_name": "Python 3",
   "language": "python",
   "name": "python3"
  },
  "language_info": {
   "codemirror_mode": {
    "name": "ipython",
    "version": 3
   },
   "file_extension": ".py",
   "mimetype": "text/x-python",
   "name": "python",
   "nbconvert_exporter": "python",
   "pygments_lexer": "ipython3",
   "version": "3.10.12"
  },
  "papermill": {
   "default_parameters": {},
   "duration": 198.513141,
   "end_time": "2023-08-29T21:56:51.220679",
   "environment_variables": {},
   "exception": null,
   "input_path": "__notebook__.ipynb",
   "output_path": "__notebook__.ipynb",
   "parameters": {},
   "start_time": "2023-08-29T21:53:32.707538",
   "version": "2.4.0"
  }
 },
 "nbformat": 4,
 "nbformat_minor": 5
}
